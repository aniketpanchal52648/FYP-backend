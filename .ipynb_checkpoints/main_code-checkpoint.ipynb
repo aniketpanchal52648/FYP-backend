{
  "cells": [
    {
      "cell_type": "code",
      "execution_count": 2,
      "metadata": {
        "id": "wRIV4WiK552_"
      },
      "outputs": [],
      "source": [
        "# This Python 3 environment comes with many helpful analytics libraries installed\n",
        "# It is defined by the kaggle/python Docker image: https://github.com/kaggle/docker-python\n",
        "# For example, here's several helpful packages to load\n",
        "\n",
        "import numpy as np # linear algebra\n",
        "import pandas as pd # data processing, CSV file I/O (e.g. pd.read_csv)\n",
        "\n",
        "# Input data files are available in the read-only \"../input/\" directory\n",
        "# For example, running this (by clicking run or pressing Shift+Enter) will list all files under the input directory\n",
        "\n",
        "import os\n",
        "for dirname, _, filenames in os.walk('/kaggle/input'):\n",
        "    for filename in filenames:\n",
        "        print(os.path.join(dirname, filename))\n",
        "\n",
        "# You can write up to 20GB to the current directory (/kaggle/working/) that gets preserved as output when you create a version using \"Save & Run All\"\n",
        "# You can also write temporary files to /kaggle/temp/, but they won't be saved outside of the current session"
      ]
    },
    {
      "cell_type": "code",
      "execution_count": null,
      "metadata": {
        "id": "-GrKeZ8x6JJT"
      },
      "outputs": [],
      "source": [
        "!pip install -q kaggle"
      ]
    },
    {
      "cell_type": "code",
      "execution_count": null,
      "metadata": {
        "colab": {
          "base_uri": "https://localhost:8080/",
          "height": 56
        },
        "id": "Nxi9K3mY6RcQ",
        "outputId": "bd16dba1-cbe9-46cf-c47b-27689b75451d"
      },
      "outputs": [
        {
          "data": {
            "text/html": [
              "\n",
              "     <input type=\"file\" id=\"files-648a128f-0c6a-4761-91d9-d64753d87b29\" name=\"files[]\" multiple disabled\n",
              "        style=\"border:none\" />\n",
              "     <output id=\"result-648a128f-0c6a-4761-91d9-d64753d87b29\">\n",
              "      Upload widget is only available when the cell has been executed in the\n",
              "      current browser session. Please rerun this cell to enable.\n",
              "      </output>\n",
              "      <script>// Copyright 2017 Google LLC\n",
              "//\n",
              "// Licensed under the Apache License, Version 2.0 (the \"License\");\n",
              "// you may not use this file except in compliance with the License.\n",
              "// You may obtain a copy of the License at\n",
              "//\n",
              "//      http://www.apache.org/licenses/LICENSE-2.0\n",
              "//\n",
              "// Unless required by applicable law or agreed to in writing, software\n",
              "// distributed under the License is distributed on an \"AS IS\" BASIS,\n",
              "// WITHOUT WARRANTIES OR CONDITIONS OF ANY KIND, either express or implied.\n",
              "// See the License for the specific language governing permissions and\n",
              "// limitations under the License.\n",
              "\n",
              "/**\n",
              " * @fileoverview Helpers for google.colab Python module.\n",
              " */\n",
              "(function(scope) {\n",
              "function span(text, styleAttributes = {}) {\n",
              "  const element = document.createElement('span');\n",
              "  element.textContent = text;\n",
              "  for (const key of Object.keys(styleAttributes)) {\n",
              "    element.style[key] = styleAttributes[key];\n",
              "  }\n",
              "  return element;\n",
              "}\n",
              "\n",
              "// Max number of bytes which will be uploaded at a time.\n",
              "const MAX_PAYLOAD_SIZE = 100 * 1024;\n",
              "\n",
              "function _uploadFiles(inputId, outputId) {\n",
              "  const steps = uploadFilesStep(inputId, outputId);\n",
              "  const outputElement = document.getElementById(outputId);\n",
              "  // Cache steps on the outputElement to make it available for the next call\n",
              "  // to uploadFilesContinue from Python.\n",
              "  outputElement.steps = steps;\n",
              "\n",
              "  return _uploadFilesContinue(outputId);\n",
              "}\n",
              "\n",
              "// This is roughly an async generator (not supported in the browser yet),\n",
              "// where there are multiple asynchronous steps and the Python side is going\n",
              "// to poll for completion of each step.\n",
              "// This uses a Promise to block the python side on completion of each step,\n",
              "// then passes the result of the previous step as the input to the next step.\n",
              "function _uploadFilesContinue(outputId) {\n",
              "  const outputElement = document.getElementById(outputId);\n",
              "  const steps = outputElement.steps;\n",
              "\n",
              "  const next = steps.next(outputElement.lastPromiseValue);\n",
              "  return Promise.resolve(next.value.promise).then((value) => {\n",
              "    // Cache the last promise value to make it available to the next\n",
              "    // step of the generator.\n",
              "    outputElement.lastPromiseValue = value;\n",
              "    return next.value.response;\n",
              "  });\n",
              "}\n",
              "\n",
              "/**\n",
              " * Generator function which is called between each async step of the upload\n",
              " * process.\n",
              " * @param {string} inputId Element ID of the input file picker element.\n",
              " * @param {string} outputId Element ID of the output display.\n",
              " * @return {!Iterable<!Object>} Iterable of next steps.\n",
              " */\n",
              "function* uploadFilesStep(inputId, outputId) {\n",
              "  const inputElement = document.getElementById(inputId);\n",
              "  inputElement.disabled = false;\n",
              "\n",
              "  const outputElement = document.getElementById(outputId);\n",
              "  outputElement.innerHTML = '';\n",
              "\n",
              "  const pickedPromise = new Promise((resolve) => {\n",
              "    inputElement.addEventListener('change', (e) => {\n",
              "      resolve(e.target.files);\n",
              "    });\n",
              "  });\n",
              "\n",
              "  const cancel = document.createElement('button');\n",
              "  inputElement.parentElement.appendChild(cancel);\n",
              "  cancel.textContent = 'Cancel upload';\n",
              "  const cancelPromise = new Promise((resolve) => {\n",
              "    cancel.onclick = () => {\n",
              "      resolve(null);\n",
              "    };\n",
              "  });\n",
              "\n",
              "  // Wait for the user to pick the files.\n",
              "  const files = yield {\n",
              "    promise: Promise.race([pickedPromise, cancelPromise]),\n",
              "    response: {\n",
              "      action: 'starting',\n",
              "    }\n",
              "  };\n",
              "\n",
              "  cancel.remove();\n",
              "\n",
              "  // Disable the input element since further picks are not allowed.\n",
              "  inputElement.disabled = true;\n",
              "\n",
              "  if (!files) {\n",
              "    return {\n",
              "      response: {\n",
              "        action: 'complete',\n",
              "      }\n",
              "    };\n",
              "  }\n",
              "\n",
              "  for (const file of files) {\n",
              "    const li = document.createElement('li');\n",
              "    li.append(span(file.name, {fontWeight: 'bold'}));\n",
              "    li.append(span(\n",
              "        `(${file.type || 'n/a'}) - ${file.size} bytes, ` +\n",
              "        `last modified: ${\n",
              "            file.lastModifiedDate ? file.lastModifiedDate.toLocaleDateString() :\n",
              "                                    'n/a'} - `));\n",
              "    const percent = span('0% done');\n",
              "    li.appendChild(percent);\n",
              "\n",
              "    outputElement.appendChild(li);\n",
              "\n",
              "    const fileDataPromise = new Promise((resolve) => {\n",
              "      const reader = new FileReader();\n",
              "      reader.onload = (e) => {\n",
              "        resolve(e.target.result);\n",
              "      };\n",
              "      reader.readAsArrayBuffer(file);\n",
              "    });\n",
              "    // Wait for the data to be ready.\n",
              "    let fileData = yield {\n",
              "      promise: fileDataPromise,\n",
              "      response: {\n",
              "        action: 'continue',\n",
              "      }\n",
              "    };\n",
              "\n",
              "    // Use a chunked sending to avoid message size limits. See b/62115660.\n",
              "    let position = 0;\n",
              "    do {\n",
              "      const length = Math.min(fileData.byteLength - position, MAX_PAYLOAD_SIZE);\n",
              "      const chunk = new Uint8Array(fileData, position, length);\n",
              "      position += length;\n",
              "\n",
              "      const base64 = btoa(String.fromCharCode.apply(null, chunk));\n",
              "      yield {\n",
              "        response: {\n",
              "          action: 'append',\n",
              "          file: file.name,\n",
              "          data: base64,\n",
              "        },\n",
              "      };\n",
              "\n",
              "      let percentDone = fileData.byteLength === 0 ?\n",
              "          100 :\n",
              "          Math.round((position / fileData.byteLength) * 100);\n",
              "      percent.textContent = `${percentDone}% done`;\n",
              "\n",
              "    } while (position < fileData.byteLength);\n",
              "  }\n",
              "\n",
              "  // All done.\n",
              "  yield {\n",
              "    response: {\n",
              "      action: 'complete',\n",
              "    }\n",
              "  };\n",
              "}\n",
              "\n",
              "scope.google = scope.google || {};\n",
              "scope.google.colab = scope.google.colab || {};\n",
              "scope.google.colab._files = {\n",
              "  _uploadFiles,\n",
              "  _uploadFilesContinue,\n",
              "};\n",
              "})(self);\n",
              "</script> "
            ],
            "text/plain": [
              "<IPython.core.display.HTML object>"
            ]
          },
          "metadata": {},
          "output_type": "display_data"
        },
        {
          "data": {
            "text/plain": [
              "{}"
            ]
          },
          "execution_count": 182,
          "metadata": {},
          "output_type": "execute_result"
        }
      ],
      "source": [
        "from google.colab import files\n",
        "files.upload()"
      ]
    },
    {
      "cell_type": "code",
      "execution_count": null,
      "metadata": {
        "colab": {
          "base_uri": "https://localhost:8080/"
        },
        "id": "FkSX7leV6Z_G",
        "outputId": "536be7cb-55d1-456a-8c64-9e3d8bbb1c44"
      },
      "outputs": [
        {
          "name": "stdout",
          "output_type": "stream",
          "text": [
            "mkdir: cannot create directory ‘/root/.kaggle’: File exists\n"
          ]
        }
      ],
      "source": [
        "!mkdir ~/.kaggle"
      ]
    },
    {
      "cell_type": "code",
      "execution_count": null,
      "metadata": {
        "colab": {
          "base_uri": "https://localhost:8080/"
        },
        "id": "Fv68D11vAVn2",
        "outputId": "b1502a2c-df17-40d0-a22f-846468ac298e"
      },
      "outputs": [
        {
          "name": "stdout",
          "output_type": "stream",
          "text": [
            "2.15.0\n"
          ]
        }
      ],
      "source": [
        "import keras\n",
        "print(keras.__version__)"
      ]
    },
    {
      "cell_type": "code",
      "execution_count": null,
      "metadata": {
        "colab": {
          "base_uri": "https://localhost:8080/"
        },
        "id": "ITurUK_c6faK",
        "outputId": "27eb5c24-a8ae-4e4d-ac70-b13f11378f17"
      },
      "outputs": [
        {
          "name": "stdout",
          "output_type": "stream",
          "text": [
            "cp: cannot stat 'kaggle.json': No such file or directory\n"
          ]
        }
      ],
      "source": [
        "! cp kaggle.json ~/.kaggle"
      ]
    },
    {
      "cell_type": "code",
      "execution_count": null,
      "metadata": {
        "colab": {
          "base_uri": "https://localhost:8080/"
        },
        "id": "eMvz4HS46fhg",
        "outputId": "e0830a64-2cb9-4d30-9f5e-7d51dcf7445a"
      },
      "outputs": [
        {
          "name": "stdout",
          "output_type": "stream",
          "text": [
            "chmod: cannot access '/root/.kaggle/kaggle.json': No such file or directory\n"
          ]
        }
      ],
      "source": [
        "!chmod 600 ~/.kaggle/kaggle.json"
      ]
    },
    {
      "cell_type": "code",
      "execution_count": null,
      "metadata": {
        "colab": {
          "base_uri": "https://localhost:8080/"
        },
        "id": "vtCQG6j86foP",
        "outputId": "6a12bedb-b406-45dd-bcc9-062631436375"
      },
      "outputs": [
        {
          "name": "stdout",
          "output_type": "stream",
          "text": [
            "Dataset URL: https://www.kaggle.com/datasets/pateljay731/panama-electricity-load-forecasting\n",
            "License(s): unknown\n",
            "panama-electricity-load-forecasting.zip: Skipping, found more recently modified local copy (use --force to force download)\n"
          ]
        }
      ],
      "source": [
        "!kaggle datasets download -d pateljay731/panama-electricity-load-forecasting"
      ]
    },
    {
      "cell_type": "code",
      "execution_count": null,
      "metadata": {
        "colab": {
          "base_uri": "https://localhost:8080/"
        },
        "id": "9NKFmVwM6pDE",
        "outputId": "caa2323b-3f6c-474f-bd79-cc61efee965a"
      },
      "outputs": [
        {
          "name": "stdout",
          "output_type": "stream",
          "text": [
            "Archive:  panama-electricity-load-forecasting.zip\n",
            "replace Predict_Jan.csv? [y]es, [n]o, [A]ll, [N]one, [r]ename: "
          ]
        }
      ],
      "source": [
        "!unzip panama-electricity-load-forecasting.zip"
      ]
    },
    {
      "cell_type": "code",
      "execution_count": 112,
      "metadata": {
        "id": "bvyLIQb56yN7"
      },
      "outputs": [],
      "source": [
        "df=pd.read_csv('train.csv')"
      ]
    },
    {
      "cell_type": "code",
      "execution_count": 113,
      "metadata": {
        "id": "ED6wVriV68HA"
      },
      "outputs": [],
      "source": [
        "import pandas as pd\n",
        "import numpy as np\n",
        "%matplotlib inline\n",
        "import seaborn as sns\n",
        "import matplotlib.pyplot as plt\n",
        "import tensorflow as tf\n",
        "from tensorflow.keras.models import Sequential\n",
        "from tensorflow.keras.layers import LSTM\n",
        "from tensorflow.keras.layers import Dense\n",
        "from tensorflow.keras.layers import Bidirectional\n",
        "from tensorflow.keras.layers import Dropout\n",
        "from tensorflow.keras.layers import Dropout, Flatten"
      ]
    },
    {
      "cell_type": "code",
      "execution_count": 114,
      "metadata": {
        "id": "GAwkfvcw6-ri"
      },
      "outputs": [],
      "source": [
        "# Assuming df is your DataFrame with datetime column converted to datetime format\n",
        "df['datetime'] = pd.to_datetime(df['datetime'], format='%d-%m-%Y %H:%M')\n",
        "\n",
        "# Filter out rows where the time is '01:00:00'\n",
        "filtered_df = df[df['datetime'].dt.time == pd.to_datetime('01:00:00').time()]"
      ]
    },
    {
      "cell_type": "code",
      "execution_count": 115,
      "metadata": {
        "id": "iKunqXM8AsWL"
      },
      "outputs": [],
      "source": [
        "filtered_df.reset_index(drop=True, inplace=True)"
      ]
    },
    {
      "cell_type": "code",
      "execution_count": 116,
      "metadata": {
        "colab": {
          "base_uri": "https://localhost:8080/"
        },
        "id": "n2OByEohBJuE",
        "outputId": "d619522c-f860-4846-82b0-cb95c245efe8"
      },
      "outputs": [
        {
          "name": "stderr",
          "output_type": "stream",
          "text": [
            "C:\\Users\\Aniket\\AppData\\Local\\Temp\\ipykernel_8684\\3991792268.py:1: SettingWithCopyWarning: \n",
            "A value is trying to be set on a copy of a slice from a DataFrame.\n",
            "Try using .loc[row_indexer,col_indexer] = value instead\n",
            "\n",
            "See the caveats in the documentation: https://pandas.pydata.org/pandas-docs/stable/user_guide/indexing.html#returning-a-view-versus-a-copy\n",
            "  filtered_df['datetime'] = filtered_df['datetime'].dt.date\n"
          ]
        }
      ],
      "source": [
        "filtered_df['datetime'] = filtered_df['datetime'].dt.date"
      ]
    },
    {
      "cell_type": "code",
      "execution_count": 117,
      "metadata": {
        "id": "pXNgmIDRBme9"
      },
      "outputs": [],
      "source": [
        "df = filtered_df"
      ]
    },
    {
      "cell_type": "code",
      "execution_count": 118,
      "metadata": {
        "colab": {
          "base_uri": "https://localhost:8080/",
          "height": 313
        },
        "id": "JsheoOdHBtA6",
        "outputId": "55e2ae79-37d9-42ba-b987-d8bb81ae3bed"
      },
      "outputs": [
        {
          "data": {
            "text/html": [
              "<div>\n",
              "<style scoped>\n",
              "    .dataframe tbody tr th:only-of-type {\n",
              "        vertical-align: middle;\n",
              "    }\n",
              "\n",
              "    .dataframe tbody tr th {\n",
              "        vertical-align: top;\n",
              "    }\n",
              "\n",
              "    .dataframe thead th {\n",
              "        text-align: right;\n",
              "    }\n",
              "</style>\n",
              "<table border=\"1\" class=\"dataframe\">\n",
              "  <thead>\n",
              "    <tr style=\"text-align: right;\">\n",
              "      <th></th>\n",
              "      <th>datetime</th>\n",
              "      <th>nat_demand</th>\n",
              "      <th>T2M_toc</th>\n",
              "      <th>QV2M_toc</th>\n",
              "      <th>TQL_toc</th>\n",
              "      <th>W2M_toc</th>\n",
              "      <th>T2M_san</th>\n",
              "      <th>QV2M_san</th>\n",
              "      <th>TQL_san</th>\n",
              "      <th>W2M_san</th>\n",
              "      <th>T2M_dav</th>\n",
              "      <th>QV2M_dav</th>\n",
              "      <th>TQL_dav</th>\n",
              "      <th>W2M_dav</th>\n",
              "      <th>Holiday_ID</th>\n",
              "      <th>holiday</th>\n",
              "      <th>school</th>\n",
              "    </tr>\n",
              "  </thead>\n",
              "  <tbody>\n",
              "    <tr>\n",
              "      <th>0</th>\n",
              "      <td>2015-01-03</td>\n",
              "      <td>970.3450</td>\n",
              "      <td>25.865259</td>\n",
              "      <td>0.018576</td>\n",
              "      <td>0.016174</td>\n",
              "      <td>21.850546</td>\n",
              "      <td>23.482446</td>\n",
              "      <td>0.017272</td>\n",
              "      <td>0.001855</td>\n",
              "      <td>10.328949</td>\n",
              "      <td>22.662134</td>\n",
              "      <td>0.016562</td>\n",
              "      <td>0.096100</td>\n",
              "      <td>5.364148</td>\n",
              "      <td>0</td>\n",
              "      <td>0</td>\n",
              "      <td>0</td>\n",
              "    </tr>\n",
              "    <tr>\n",
              "      <th>1</th>\n",
              "      <td>2015-01-04</td>\n",
              "      <td>944.0556</td>\n",
              "      <td>25.681818</td>\n",
              "      <td>0.018494</td>\n",
              "      <td>0.003898</td>\n",
              "      <td>19.893350</td>\n",
              "      <td>23.627130</td>\n",
              "      <td>0.017540</td>\n",
              "      <td>0.006481</td>\n",
              "      <td>8.287433</td>\n",
              "      <td>22.533380</td>\n",
              "      <td>0.016747</td>\n",
              "      <td>0.085571</td>\n",
              "      <td>4.433089</td>\n",
              "      <td>0</td>\n",
              "      <td>0</td>\n",
              "      <td>0</td>\n",
              "    </tr>\n",
              "    <tr>\n",
              "      <th>2</th>\n",
              "      <td>2015-01-05</td>\n",
              "      <td>928.5338</td>\n",
              "      <td>25.689905</td>\n",
              "      <td>0.018423</td>\n",
              "      <td>0.018112</td>\n",
              "      <td>20.812843</td>\n",
              "      <td>23.510217</td>\n",
              "      <td>0.016660</td>\n",
              "      <td>0.007763</td>\n",
              "      <td>11.819470</td>\n",
              "      <td>22.400842</td>\n",
              "      <td>0.015913</td>\n",
              "      <td>0.082062</td>\n",
              "      <td>6.599681</td>\n",
              "      <td>0</td>\n",
              "      <td>0</td>\n",
              "      <td>0</td>\n",
              "    </tr>\n",
              "    <tr>\n",
              "      <th>3</th>\n",
              "      <td>2015-01-06</td>\n",
              "      <td>914.6895</td>\n",
              "      <td>25.441034</td>\n",
              "      <td>0.017628</td>\n",
              "      <td>0.024033</td>\n",
              "      <td>28.399832</td>\n",
              "      <td>23.605096</td>\n",
              "      <td>0.016590</td>\n",
              "      <td>0.008877</td>\n",
              "      <td>14.222410</td>\n",
              "      <td>22.284784</td>\n",
              "      <td>0.015835</td>\n",
              "      <td>0.088104</td>\n",
              "      <td>7.670477</td>\n",
              "      <td>0</td>\n",
              "      <td>0</td>\n",
              "      <td>0</td>\n",
              "    </tr>\n",
              "    <tr>\n",
              "      <th>4</th>\n",
              "      <td>2015-01-07</td>\n",
              "      <td>940.4568</td>\n",
              "      <td>24.863245</td>\n",
              "      <td>0.016943</td>\n",
              "      <td>0.015156</td>\n",
              "      <td>20.156554</td>\n",
              "      <td>22.425745</td>\n",
              "      <td>0.016386</td>\n",
              "      <td>0.015404</td>\n",
              "      <td>10.078216</td>\n",
              "      <td>21.761682</td>\n",
              "      <td>0.015573</td>\n",
              "      <td>0.100281</td>\n",
              "      <td>6.593827</td>\n",
              "      <td>0</td>\n",
              "      <td>0</td>\n",
              "      <td>0</td>\n",
              "    </tr>\n",
              "  </tbody>\n",
              "</table>\n",
              "</div>"
            ],
            "text/plain": [
              "     datetime  nat_demand    T2M_toc  QV2M_toc   TQL_toc    W2M_toc  \\\n",
              "0  2015-01-03    970.3450  25.865259  0.018576  0.016174  21.850546   \n",
              "1  2015-01-04    944.0556  25.681818  0.018494  0.003898  19.893350   \n",
              "2  2015-01-05    928.5338  25.689905  0.018423  0.018112  20.812843   \n",
              "3  2015-01-06    914.6895  25.441034  0.017628  0.024033  28.399832   \n",
              "4  2015-01-07    940.4568  24.863245  0.016943  0.015156  20.156554   \n",
              "\n",
              "     T2M_san  QV2M_san   TQL_san    W2M_san    T2M_dav  QV2M_dav   TQL_dav  \\\n",
              "0  23.482446  0.017272  0.001855  10.328949  22.662134  0.016562  0.096100   \n",
              "1  23.627130  0.017540  0.006481   8.287433  22.533380  0.016747  0.085571   \n",
              "2  23.510217  0.016660  0.007763  11.819470  22.400842  0.015913  0.082062   \n",
              "3  23.605096  0.016590  0.008877  14.222410  22.284784  0.015835  0.088104   \n",
              "4  22.425745  0.016386  0.015404  10.078216  21.761682  0.015573  0.100281   \n",
              "\n",
              "    W2M_dav  Holiday_ID  holiday  school  \n",
              "0  5.364148           0        0       0  \n",
              "1  4.433089           0        0       0  \n",
              "2  6.599681           0        0       0  \n",
              "3  7.670477           0        0       0  \n",
              "4  6.593827           0        0       0  "
            ]
          },
          "execution_count": 118,
          "metadata": {},
          "output_type": "execute_result"
        }
      ],
      "source": [
        "df.head()"
      ]
    },
    {
      "cell_type": "code",
      "execution_count": 119,
      "metadata": {
        "colab": {
          "base_uri": "https://localhost:8080/"
        },
        "id": "XyCjhE8x7BG8",
        "outputId": "4bed7ae8-b1b7-4072-950b-30207665b3a0"
      },
      "outputs": [
        {
          "name": "stdout",
          "output_type": "stream",
          "text": [
            "datetime       object\n",
            "nat_demand    float64\n",
            "T2M_toc       float64\n",
            "QV2M_toc      float64\n",
            "TQL_toc       float64\n",
            "W2M_toc       float64\n",
            "T2M_san       float64\n",
            "QV2M_san      float64\n",
            "TQL_san       float64\n",
            "W2M_san       float64\n",
            "T2M_dav       float64\n",
            "QV2M_dav      float64\n",
            "TQL_dav       float64\n",
            "W2M_dav       float64\n",
            "Holiday_ID      int64\n",
            "holiday         int64\n",
            "school          int64\n",
            "dtype: object\n"
          ]
        }
      ],
      "source": [
        "print(df.dtypes)"
      ]
    },
    {
      "cell_type": "code",
      "execution_count": 120,
      "metadata": {
        "colab": {
          "base_uri": "https://localhost:8080/"
        },
        "id": "VLqiza4u7DHy",
        "outputId": "2f3b5a8c-fad0-4f93-d158-2d10956b0ad9"
      },
      "outputs": [
        {
          "data": {
            "text/plain": [
              "datetime      0\n",
              "nat_demand    0\n",
              "T2M_toc       0\n",
              "QV2M_toc      0\n",
              "TQL_toc       0\n",
              "W2M_toc       0\n",
              "T2M_san       0\n",
              "QV2M_san      0\n",
              "TQL_san       0\n",
              "W2M_san       0\n",
              "T2M_dav       0\n",
              "QV2M_dav      0\n",
              "TQL_dav       0\n",
              "W2M_dav       0\n",
              "Holiday_ID    0\n",
              "holiday       0\n",
              "school        0\n",
              "dtype: int64"
            ]
          },
          "execution_count": 120,
          "metadata": {},
          "output_type": "execute_result"
        }
      ],
      "source": [
        "df.isnull().sum()"
      ]
    },
    {
      "cell_type": "code",
      "execution_count": 121,
      "metadata": {
        "colab": {
          "base_uri": "https://localhost:8080/",
          "height": 342
        },
        "id": "kHviseXK7ih2",
        "outputId": "978b0f04-a4c5-47f3-c1df-8ece36cab085"
      },
      "outputs": [
        {
          "data": {
            "text/html": [
              "<div>\n",
              "<style scoped>\n",
              "    .dataframe tbody tr th:only-of-type {\n",
              "        vertical-align: middle;\n",
              "    }\n",
              "\n",
              "    .dataframe tbody tr th {\n",
              "        vertical-align: top;\n",
              "    }\n",
              "\n",
              "    .dataframe thead th {\n",
              "        text-align: right;\n",
              "    }\n",
              "</style>\n",
              "<table border=\"1\" class=\"dataframe\">\n",
              "  <thead>\n",
              "    <tr style=\"text-align: right;\">\n",
              "      <th></th>\n",
              "      <th>datetime</th>\n",
              "      <th>nat_demand</th>\n",
              "      <th>T2M_toc</th>\n",
              "      <th>QV2M_toc</th>\n",
              "      <th>TQL_toc</th>\n",
              "      <th>W2M_toc</th>\n",
              "      <th>T2M_san</th>\n",
              "      <th>QV2M_san</th>\n",
              "      <th>TQL_san</th>\n",
              "      <th>W2M_san</th>\n",
              "      <th>...</th>\n",
              "      <th>QV2M_dav</th>\n",
              "      <th>TQL_dav</th>\n",
              "      <th>W2M_dav</th>\n",
              "      <th>Holiday_ID</th>\n",
              "      <th>holiday</th>\n",
              "      <th>school</th>\n",
              "      <th>week_day</th>\n",
              "      <th>date</th>\n",
              "      <th>month</th>\n",
              "      <th>hour</th>\n",
              "    </tr>\n",
              "  </thead>\n",
              "  <tbody>\n",
              "    <tr>\n",
              "      <th>0</th>\n",
              "      <td>2015-01-03</td>\n",
              "      <td>970.3450</td>\n",
              "      <td>25.865259</td>\n",
              "      <td>0.018576</td>\n",
              "      <td>0.016174</td>\n",
              "      <td>21.850546</td>\n",
              "      <td>23.482446</td>\n",
              "      <td>0.017272</td>\n",
              "      <td>0.001855</td>\n",
              "      <td>10.328949</td>\n",
              "      <td>...</td>\n",
              "      <td>0.016562</td>\n",
              "      <td>0.096100</td>\n",
              "      <td>5.364148</td>\n",
              "      <td>0</td>\n",
              "      <td>0</td>\n",
              "      <td>0</td>\n",
              "      <td>5</td>\n",
              "      <td>3</td>\n",
              "      <td>1</td>\n",
              "      <td>0</td>\n",
              "    </tr>\n",
              "    <tr>\n",
              "      <th>1</th>\n",
              "      <td>2015-01-04</td>\n",
              "      <td>944.0556</td>\n",
              "      <td>25.681818</td>\n",
              "      <td>0.018494</td>\n",
              "      <td>0.003898</td>\n",
              "      <td>19.893350</td>\n",
              "      <td>23.627130</td>\n",
              "      <td>0.017540</td>\n",
              "      <td>0.006481</td>\n",
              "      <td>8.287433</td>\n",
              "      <td>...</td>\n",
              "      <td>0.016747</td>\n",
              "      <td>0.085571</td>\n",
              "      <td>4.433089</td>\n",
              "      <td>0</td>\n",
              "      <td>0</td>\n",
              "      <td>0</td>\n",
              "      <td>6</td>\n",
              "      <td>4</td>\n",
              "      <td>1</td>\n",
              "      <td>0</td>\n",
              "    </tr>\n",
              "    <tr>\n",
              "      <th>2</th>\n",
              "      <td>2015-01-05</td>\n",
              "      <td>928.5338</td>\n",
              "      <td>25.689905</td>\n",
              "      <td>0.018423</td>\n",
              "      <td>0.018112</td>\n",
              "      <td>20.812843</td>\n",
              "      <td>23.510217</td>\n",
              "      <td>0.016660</td>\n",
              "      <td>0.007763</td>\n",
              "      <td>11.819470</td>\n",
              "      <td>...</td>\n",
              "      <td>0.015913</td>\n",
              "      <td>0.082062</td>\n",
              "      <td>6.599681</td>\n",
              "      <td>0</td>\n",
              "      <td>0</td>\n",
              "      <td>0</td>\n",
              "      <td>0</td>\n",
              "      <td>5</td>\n",
              "      <td>1</td>\n",
              "      <td>0</td>\n",
              "    </tr>\n",
              "    <tr>\n",
              "      <th>3</th>\n",
              "      <td>2015-01-06</td>\n",
              "      <td>914.6895</td>\n",
              "      <td>25.441034</td>\n",
              "      <td>0.017628</td>\n",
              "      <td>0.024033</td>\n",
              "      <td>28.399832</td>\n",
              "      <td>23.605096</td>\n",
              "      <td>0.016590</td>\n",
              "      <td>0.008877</td>\n",
              "      <td>14.222410</td>\n",
              "      <td>...</td>\n",
              "      <td>0.015835</td>\n",
              "      <td>0.088104</td>\n",
              "      <td>7.670477</td>\n",
              "      <td>0</td>\n",
              "      <td>0</td>\n",
              "      <td>0</td>\n",
              "      <td>1</td>\n",
              "      <td>6</td>\n",
              "      <td>1</td>\n",
              "      <td>0</td>\n",
              "    </tr>\n",
              "    <tr>\n",
              "      <th>4</th>\n",
              "      <td>2015-01-07</td>\n",
              "      <td>940.4568</td>\n",
              "      <td>24.863245</td>\n",
              "      <td>0.016943</td>\n",
              "      <td>0.015156</td>\n",
              "      <td>20.156554</td>\n",
              "      <td>22.425745</td>\n",
              "      <td>0.016386</td>\n",
              "      <td>0.015404</td>\n",
              "      <td>10.078216</td>\n",
              "      <td>...</td>\n",
              "      <td>0.015573</td>\n",
              "      <td>0.100281</td>\n",
              "      <td>6.593827</td>\n",
              "      <td>0</td>\n",
              "      <td>0</td>\n",
              "      <td>0</td>\n",
              "      <td>2</td>\n",
              "      <td>7</td>\n",
              "      <td>1</td>\n",
              "      <td>0</td>\n",
              "    </tr>\n",
              "  </tbody>\n",
              "</table>\n",
              "<p>5 rows × 21 columns</p>\n",
              "</div>"
            ],
            "text/plain": [
              "    datetime  nat_demand    T2M_toc  QV2M_toc   TQL_toc    W2M_toc    T2M_san  \\\n",
              "0 2015-01-03    970.3450  25.865259  0.018576  0.016174  21.850546  23.482446   \n",
              "1 2015-01-04    944.0556  25.681818  0.018494  0.003898  19.893350  23.627130   \n",
              "2 2015-01-05    928.5338  25.689905  0.018423  0.018112  20.812843  23.510217   \n",
              "3 2015-01-06    914.6895  25.441034  0.017628  0.024033  28.399832  23.605096   \n",
              "4 2015-01-07    940.4568  24.863245  0.016943  0.015156  20.156554  22.425745   \n",
              "\n",
              "   QV2M_san   TQL_san    W2M_san  ...  QV2M_dav   TQL_dav   W2M_dav  \\\n",
              "0  0.017272  0.001855  10.328949  ...  0.016562  0.096100  5.364148   \n",
              "1  0.017540  0.006481   8.287433  ...  0.016747  0.085571  4.433089   \n",
              "2  0.016660  0.007763  11.819470  ...  0.015913  0.082062  6.599681   \n",
              "3  0.016590  0.008877  14.222410  ...  0.015835  0.088104  7.670477   \n",
              "4  0.016386  0.015404  10.078216  ...  0.015573  0.100281  6.593827   \n",
              "\n",
              "   Holiday_ID  holiday  school  week_day  date  month  hour  \n",
              "0           0        0       0         5     3      1     0  \n",
              "1           0        0       0         6     4      1     0  \n",
              "2           0        0       0         0     5      1     0  \n",
              "3           0        0       0         1     6      1     0  \n",
              "4           0        0       0         2     7      1     0  \n",
              "\n",
              "[5 rows x 21 columns]"
            ]
          },
          "execution_count": 121,
          "metadata": {},
          "output_type": "execute_result"
        }
      ],
      "source": [
        "# Convert 'datetime' column to datetime format\n",
        "df['datetime'] = pd.to_datetime(df['datetime'], format='%Y-%m-%d')\n",
        "\n",
        "# Now you can use .dt accessor\n",
        "df['week_day'] = df['datetime'].dt.dayofweek\n",
        "df['date'] = df['datetime'].dt.day\n",
        "df['month'] = df['datetime'].dt.month\n",
        "df['hour'] = df['datetime'].dt.hour\n",
        "\n",
        "# Display the DataFrame head\n",
        "df.head()\n"
      ]
    },
    {
      "cell_type": "code",
      "execution_count": 122,
      "metadata": {
        "colab": {
          "base_uri": "https://localhost:8080/",
          "height": 324
        },
        "id": "ByRsAJv87nLt",
        "outputId": "bdb01073-2915-4ca3-b9f4-8ab37e4ff6ad"
      },
      "outputs": [
        {
          "data": {
            "text/plain": [
              "<Axes: xlabel='datetime'>"
            ]
          },
          "execution_count": 122,
          "metadata": {},
          "output_type": "execute_result"
        },
        {
          "data": {
            "image/png": "[encoded data removed]",
            "text/plain": [
              "<Figure size 3000x600 with 1 Axes>"
            ]
          },
          "metadata": {},
          "output_type": "display_data"
        }
      ],
      "source": [
        "from matplotlib.pyplot import figure\n",
        "figure(figsize=(30, 6))\n",
        "ddd=df[0:15000]\n",
        "ddd.groupby('datetime')['nat_demand'].median().plot()"
      ]
    },
    {
      "cell_type": "code",
      "execution_count": 123,
      "metadata": {
        "id": "_WQRkz4u7rO1"
      },
      "outputs": [],
      "source": [
        "def add_features(df):\n",
        "    df['T2M_toc_s']=df['T2M_toc'].shift(-1).fillna(0)\n",
        "    df['QV2M_toc_s']=df['QV2M_toc'].shift(-1).fillna(0)\n",
        "    df['TQL_toc_s']=df['TQL_toc'].shift(-1).fillna(0)\n",
        "    df['W2M_toc_s']=df['W2M_toc'].shift(-1).fillna(0)\n",
        "    df['T2M_toc_s']=df['T2M_san'].shift(-1).fillna(0)\n",
        "    df['QV2M_san_s']=df['QV2M_san'].shift(-1).fillna(0)\n",
        "    df['TQL_san_s']=df['TQL_san'].shift(-1).fillna(0)\n",
        "    df['W2M_san_s']=df['W2M_san'].shift(-1).fillna(0)\n",
        "    df['T2M_dav_s']=df['T2M_dav'].shift(-1).fillna(0)\n",
        "    df['QV2M_dav_s']=df['QV2M_dav'].shift(-1).fillna(0)\n",
        "    df['TQL_dav_s']=df['TQL_dav'].shift(-1).fillna(0)\n",
        "    df['W2M_dav_s']=df['W2M_dav'].shift(-1).fillna(0)\n",
        "    df['Holiday_ID_s']=df['Holiday_ID'].shift(-1).fillna(0)\n",
        "    df['holiday_s']=df['holiday'].shift(-1).fillna(0)\n",
        "    df['school_s']=df['school'].shift(-1).fillna(0)\n",
        "\n",
        "    df['T2M_toc_s1']=df['T2M_toc'].shift(-2).fillna(0)\n",
        "    df['QV2M_toc_s1']=df['QV2M_toc'].shift(-2).fillna(0)\n",
        "    df['TQL_toc_s1']=df['TQL_toc'].shift(-2).fillna(0)\n",
        "    df['W2M_toc_s1']=df['W2M_toc'].shift(-2).fillna(0)\n",
        "    df['T2M_toc_s1']=df['T2M_san'].shift(-2).fillna(0)\n",
        "    df['QV2M_san_s1']=df['QV2M_san'].shift(-2).fillna(0)\n",
        "    df['TQL_san_s1']=df['TQL_san'].shift(-2).fillna(0)\n",
        "    df['W2M_san_s1']=df['W2M_san'].shift(-2).fillna(0)\n",
        "    df['T2M_dav_s1']=df['T2M_dav'].shift(-2).fillna(0)\n",
        "    df['QV2M_dav_s1']=df['QV2M_dav'].shift(-2).fillna(0)\n",
        "    df['TQL_dav_s1']=df['TQL_dav'].shift(-2).fillna(0)\n",
        "    df['W2M_dav_s1']=df['W2M_dav'].shift(-2).fillna(0)\n",
        "\n",
        "    df['nat_demand3']=df['nat_demand'].shift(3).fillna(0)\n",
        "    df['nat_demand4']=df['nat_demand'].shift(4).fillna(0)\n",
        "    df['nat_demand5']=df['nat_demand'].shift(5).fillna(0)\n",
        "    df['nat_demand6']=df['nat_demand'].shift(6).fillna(0)\n",
        "    df['nat_demand7']=df['nat_demand'].shift(7).fillna(0)\n",
        "    df['nat_demand8']=df['nat_demand'].shift(8).fillna(0)\n",
        "    df['nat_demand9']=df['nat_demand'].shift(9).fillna(0)\n",
        "    df['nat_demand10']=df['nat_demand'].shift(10).fillna(0)\n",
        "    df['nat_demand11']=df['nat_demand'].shift(11).fillna(0)\n",
        "    df['nat_demand12']=df['nat_demand'].shift(12).fillna(0)\n",
        "    df['nat_demand13']=df['nat_demand'].shift(13).fillna(0)\n",
        "    df['nat_demand14']=df['nat_demand'].shift(14).fillna(0)\n",
        "    df['nat_demand_n']=df['nat_demand']\n",
        "    #df = pd.get_dummies(df)\n",
        "    return df"
      ]
    },
    {
      "cell_type": "code",
      "execution_count": 124,
      "metadata": {
        "id": "UfsG795O7z-_"
      },
      "outputs": [],
      "source": [
        "df1 = add_features(df)"
      ]
    },
    {
      "cell_type": "code",
      "execution_count": 125,
      "metadata": {
        "colab": {
          "base_uri": "https://localhost:8080/"
        },
        "id": "ey-MHFmG4NyD",
        "outputId": "243a7ea1-e5fa-47b7-845d-37c563b663b5"
      },
      "outputs": [
        {
          "name": "stdout",
          "output_type": "stream",
          "text": [
            "<class 'pandas.core.frame.DataFrame'>\n",
            "RangeIndex: 1824 entries, 0 to 1823\n",
            "Data columns (total 59 columns):\n",
            " #   Column        Non-Null Count  Dtype         \n",
            "---  ------        --------------  -----         \n",
            " 0   datetime      1824 non-null   datetime64[ns]\n",
            " 1   nat_demand    1824 non-null   float64       \n",
            " 2   T2M_toc       1824 non-null   float64       \n",
            " 3   QV2M_toc      1824 non-null   float64       \n",
            " 4   TQL_toc       1824 non-null   float64       \n",
            " 5   W2M_toc       1824 non-null   float64       \n",
            " 6   T2M_san       1824 non-null   float64       \n",
            " 7   QV2M_san      1824 non-null   float64       \n",
            " 8   TQL_san       1824 non-null   float64       \n",
            " 9   W2M_san       1824 non-null   float64       \n",
            " 10  T2M_dav       1824 non-null   float64       \n",
            " 11  QV2M_dav      1824 non-null   float64       \n",
            " 12  TQL_dav       1824 non-null   float64       \n",
            " 13  W2M_dav       1824 non-null   float64       \n",
            " 14  Holiday_ID    1824 non-null   int64         \n",
            " 15  holiday       1824 non-null   int64         \n",
            " 16  school        1824 non-null   int64         \n",
            " 17  week_day      1824 non-null   int32         \n",
            " 18  date          1824 non-null   int32         \n",
            " 19  month         1824 non-null   int32         \n",
            " 20  hour          1824 non-null   int32         \n",
            " 21  T2M_toc_s     1824 non-null   float64       \n",
            " 22  QV2M_toc_s    1824 non-null   float64       \n",
            " 23  TQL_toc_s     1824 non-null   float64       \n",
            " 24  W2M_toc_s     1824 non-null   float64       \n",
            " 25  QV2M_san_s    1824 non-null   float64       \n",
            " 26  TQL_san_s     1824 non-null   float64       \n",
            " 27  W2M_san_s     1824 non-null   float64       \n",
            " 28  T2M_dav_s     1824 non-null   float64       \n",
            " 29  QV2M_dav_s    1824 non-null   float64       \n",
            " 30  TQL_dav_s     1824 non-null   float64       \n",
            " 31  W2M_dav_s     1824 non-null   float64       \n",
            " 32  Holiday_ID_s  1824 non-null   float64       \n",
            " 33  holiday_s     1824 non-null   float64       \n",
            " 34  school_s      1824 non-null   float64       \n",
            " 35  T2M_toc_s1    1824 non-null   float64       \n",
            " 36  QV2M_toc_s1   1824 non-null   float64       \n",
            " 37  TQL_toc_s1    1824 non-null   float64       \n",
            " 38  W2M_toc_s1    1824 non-null   float64       \n",
            " 39  QV2M_san_s1   1824 non-null   float64       \n",
            " 40  TQL_san_s1    1824 non-null   float64       \n",
            " 41  W2M_san_s1    1824 non-null   float64       \n",
            " 42  T2M_dav_s1    1824 non-null   float64       \n",
            " 43  QV2M_dav_s1   1824 non-null   float64       \n",
            " 44  TQL_dav_s1    1824 non-null   float64       \n",
            " 45  W2M_dav_s1    1824 non-null   float64       \n",
            " 46  nat_demand3   1824 non-null   float64       \n",
            " 47  nat_demand4   1824 non-null   float64       \n",
            " 48  nat_demand5   1824 non-null   float64       \n",
            " 49  nat_demand6   1824 non-null   float64       \n",
            " 50  nat_demand7   1824 non-null   float64       \n",
            " 51  nat_demand8   1824 non-null   float64       \n",
            " 52  nat_demand9   1824 non-null   float64       \n",
            " 53  nat_demand10  1824 non-null   float64       \n",
            " 54  nat_demand11  1824 non-null   float64       \n",
            " 55  nat_demand12  1824 non-null   float64       \n",
            " 56  nat_demand13  1824 non-null   float64       \n",
            " 57  nat_demand14  1824 non-null   float64       \n",
            " 58  nat_demand_n  1824 non-null   float64       \n",
            "dtypes: datetime64[ns](1), float64(51), int32(4), int64(3)\n",
            "memory usage: 812.4 KB\n"
          ]
        }
      ],
      "source": [
        "df1.info()"
      ]
    },
    {
      "cell_type": "code",
      "execution_count": 126,
      "metadata": {
        "id": "lHM37TBK7uXs"
      },
      "outputs": [],
      "source": [
        "col=['datetime']\n",
        "demand=df1['nat_demand']\n",
        "new_df= df1.drop(columns=col)\n",
        "df_for_training = new_df.astype(float)\n",
        "\n",
        "# print(df_for_training)"
      ]
    },
    {
      "cell_type": "code",
      "execution_count": 127,
      "metadata": {
        "colab": {
          "base_uri": "https://localhost:8080/"
        },
        "id": "5KUx1Ikaed-N",
        "outputId": "3ef639a8-1ac3-40ad-a1c9-f22fb8866cd0"
      },
      "outputs": [
        {
          "data": {
            "text/plain": [
              "(1824, 58)"
            ]
          },
          "execution_count": 127,
          "metadata": {},
          "output_type": "execute_result"
        }
      ],
      "source": [
        "df_for_training.shape"
      ]
    },
    {
      "cell_type": "code",
      "execution_count": 128,
      "metadata": {
        "id": "HKICUHIoOOZt"
      },
      "outputs": [],
      "source": [
        "import joblib"
      ]
    },
    {
      "cell_type": "code",
      "execution_count": 129,
      "metadata": {
        "id": "6ac2y6yi73GS"
      },
      "outputs": [],
      "source": [
        "from sklearn.preprocessing import MinMaxScaler\n",
        "scaler = MinMaxScaler()\n",
        "scaler = scaler.fit(df_for_training)\n",
        "df_for_training_scaled = scaler.transform(df_for_training)"
      ]
    },
    {
      "cell_type": "code",
      "execution_count": 130,
      "metadata": {
        "colab": {
          "base_uri": "https://localhost:8080/"
        },
        "id": "CIBZO7_gpmRK",
        "outputId": "e4559c04-8931-4e05-ffc2-036301498ec6"
      },
      "outputs": [
        {
          "data": {
            "text/plain": [
              "['scaler_MT.joblib']"
            ]
          },
          "execution_count": 130,
          "metadata": {},
          "output_type": "execute_result"
        }
      ],
      "source": [
        "joblib.dump(scaler, 'scaler_MT.joblib')"
      ]
    },
    {
      "cell_type": "code",
      "execution_count": 131,
      "metadata": {
        "colab": {
          "base_uri": "https://localhost:8080/"
        },
        "id": "uW-P4TNTT9KR",
        "outputId": "80948b13-968e-406f-d537-6e305a35a158"
      },
      "outputs": [
        {
          "data": {
            "text/plain": [
              "array([[0.43336192, 0.5522116 , 0.61427046, ..., 0.        , 0.        ,\n",
              "        0.43336192],\n",
              "       [0.38141418, 0.51265227, 0.60435126, ..., 0.        , 0.        ,\n",
              "        0.38141418],\n",
              "       [0.35074317, 0.51439628, 0.59582088, ..., 0.        , 0.        ,\n",
              "        0.35074317],\n",
              "       ...,\n",
              "       [0.69647226, 0.7409723 , 0.79449222, ..., 0.91573319, 0.92926856,\n",
              "        0.69647226],\n",
              "       [0.64138328, 0.63450237, 0.74975236, ..., 0.94926091, 0.91573319,\n",
              "        0.64138328],\n",
              "       [0.67089398, 0.53564025, 0.6010677 , ..., 0.97418674, 0.94926091,\n",
              "        0.67089398]])"
            ]
          },
          "execution_count": 131,
          "metadata": {},
          "output_type": "execute_result"
        }
      ],
      "source": [
        "df_for_training_scaled"
      ]
    },
    {
      "cell_type": "code",
      "execution_count": 132,
      "metadata": {
        "colab": {
          "base_uri": "https://localhost:8080/",
          "height": 75
        },
        "id": "L4iPIU4075ed",
        "outputId": "c9422db8-f9b5-498f-8baa-2b0187f0b456"
      },
      "outputs": [
        {
          "data": {
            "text/html": [
              "<style>#sk-container-id-4 {\n",
              "  /* Definition of color scheme common for light and dark mode */\n",
              "  --sklearn-color-text: black;\n",
              "  --sklearn-color-line: gray;\n",
              "  /* Definition of color scheme for unfitted estimators */\n",
              "  --sklearn-color-unfitted-level-0: #fff5e6;\n",
              "  --sklearn-color-unfitted-level-1: #f6e4d2;\n",
              "  --sklearn-color-unfitted-level-2: #ffe0b3;\n",
              "  --sklearn-color-unfitted-level-3: chocolate;\n",
              "  /* Definition of color scheme for fitted estimators */\n",
              "  --sklearn-color-fitted-level-0: #f0f8ff;\n",
              "  --sklearn-color-fitted-level-1: #d4ebff;\n",
              "  --sklearn-color-fitted-level-2: #b3dbfd;\n",
              "  --sklearn-color-fitted-level-3: cornflowerblue;\n",
              "\n",
              "  /* Specific color for light theme */\n",
              "  --sklearn-color-text-on-default-background: var(--sg-text-color, var(--theme-code-foreground, var(--jp-content-font-color1, black)));\n",
              "  --sklearn-color-background: var(--sg-background-color, var(--theme-background, var(--jp-layout-color0, white)));\n",
              "  --sklearn-color-border-box: var(--sg-text-color, var(--theme-code-foreground, var(--jp-content-font-color1, black)));\n",
              "  --sklearn-color-icon: #696969;\n",
              "\n",
              "  @media (prefers-color-scheme: dark) {\n",
              "    /* Redefinition of color scheme for dark theme */\n",
              "    --sklearn-color-text-on-default-background: var(--sg-text-color, var(--theme-code-foreground, var(--jp-content-font-color1, white)));\n",
              "    --sklearn-color-background: var(--sg-background-color, var(--theme-background, var(--jp-layout-color0, #111)));\n",
              "    --sklearn-color-border-box: var(--sg-text-color, var(--theme-code-foreground, var(--jp-content-font-color1, white)));\n",
              "    --sklearn-color-icon: #878787;\n",
              "  }\n",
              "}\n",
              "\n",
              "#sk-container-id-4 {\n",
              "  color: var(--sklearn-color-text);\n",
              "}\n",
              "\n",
              "#sk-container-id-4 pre {\n",
              "  padding: 0;\n",
              "}\n",
              "\n",
              "#sk-container-id-4 input.sk-hidden--visually {\n",
              "  border: 0;\n",
              "  clip: rect(1px 1px 1px 1px);\n",
              "  clip: rect(1px, 1px, 1px, 1px);\n",
              "  height: 1px;\n",
              "  margin: -1px;\n",
              "  overflow: hidden;\n",
              "  padding: 0;\n",
              "  position: absolute;\n",
              "  width: 1px;\n",
              "}\n",
              "\n",
              "#sk-container-id-4 div.sk-dashed-wrapped {\n",
              "  border: 1px dashed var(--sklearn-color-line);\n",
              "  margin: 0 0.4em 0.5em 0.4em;\n",
              "  box-sizing: border-box;\n",
              "  padding-bottom: 0.4em;\n",
              "  background-color: var(--sklearn-color-background);\n",
              "}\n",
              "\n",
              "#sk-container-id-4 div.sk-container {\n",
              "  /* jupyter's `normalize.less` sets `[hidden] { display: none; }`\n",
              "     but bootstrap.min.css set `[hidden] { display: none !important; }`\n",
              "     so we also need the `!important` here to be able to override the\n",
              "     default hidden behavior on the sphinx rendered scikit-learn.org.\n",
              "     See: https://github.com/scikit-learn/scikit-learn/issues/21755 */\n",
              "  display: inline-block !important;\n",
              "  position: relative;\n",
              "}\n",
              "\n",
              "#sk-container-id-4 div.sk-text-repr-fallback {\n",
              "  display: none;\n",
              "}\n",
              "\n",
              "div.sk-parallel-item,\n",
              "div.sk-serial,\n",
              "div.sk-item {\n",
              "  /* draw centered vertical line to link estimators */\n",
              "  background-image: linear-gradient(var(--sklearn-color-text-on-default-background), var(--sklearn-color-text-on-default-background));\n",
              "  background-size: 2px 100%;\n",
              "  background-repeat: no-repeat;\n",
              "  background-position: center center;\n",
              "}\n",
              "\n",
              "/* Parallel-specific style estimator block */\n",
              "\n",
              "#sk-container-id-4 div.sk-parallel-item::after {\n",
              "  content: \"\";\n",
              "  width: 100%;\n",
              "  border-bottom: 2px solid var(--sklearn-color-text-on-default-background);\n",
              "  flex-grow: 1;\n",
              "}\n",
              "\n",
              "#sk-container-id-4 div.sk-parallel {\n",
              "  display: flex;\n",
              "  align-items: stretch;\n",
              "  justify-content: center;\n",
              "  background-color: var(--sklearn-color-background);\n",
              "  position: relative;\n",
              "}\n",
              "\n",
              "#sk-container-id-4 div.sk-parallel-item {\n",
              "  display: flex;\n",
              "  flex-direction: column;\n",
              "}\n",
              "\n",
              "#sk-container-id-4 div.sk-parallel-item:first-child::after {\n",
              "  align-self: flex-end;\n",
              "  width: 50%;\n",
              "}\n",
              "\n",
              "#sk-container-id-4 div.sk-parallel-item:last-child::after {\n",
              "  align-self: flex-start;\n",
              "  width: 50%;\n",
              "}\n",
              "\n",
              "#sk-container-id-4 div.sk-parallel-item:only-child::after {\n",
              "  width: 0;\n",
              "}\n",
              "\n",
              "/* Serial-specific style estimator block */\n",
              "\n",
              "#sk-container-id-4 div.sk-serial {\n",
              "  display: flex;\n",
              "  flex-direction: column;\n",
              "  align-items: center;\n",
              "  background-color: var(--sklearn-color-background);\n",
              "  padding-right: 1em;\n",
              "  padding-left: 1em;\n",
              "}\n",
              "\n",
              "\n",
              "/* Toggleable style: style used for estimator/Pipeline/ColumnTransformer box that is\n",
              "clickable and can be expanded/collapsed.\n",
              "- Pipeline and ColumnTransformer use this feature and define the default style\n",
              "- Estimators will overwrite some part of the style using the `sk-estimator` class\n",
              "*/\n",
              "\n",
              "/* Pipeline and ColumnTransformer style (default) */\n",
              "\n",
              "#sk-container-id-4 div.sk-toggleable {\n",
              "  /* Default theme specific background. It is overwritten whether we have a\n",
              "  specific estimator or a Pipeline/ColumnTransformer */\n",
              "  background-color: var(--sklearn-color-background);\n",
              "}\n",
              "\n",
              "/* Toggleable label */\n",
              "#sk-container-id-4 label.sk-toggleable__label {\n",
              "  cursor: pointer;\n",
              "  display: block;\n",
              "  width: 100%;\n",
              "  margin-bottom: 0;\n",
              "  padding: 0.5em;\n",
              "  box-sizing: border-box;\n",
              "  text-align: center;\n",
              "}\n",
              "\n",
              "#sk-container-id-4 label.sk-toggleable__label-arrow:before {\n",
              "  /* Arrow on the left of the label */\n",
              "  content: \"▸\";\n",
              "  float: left;\n",
              "  margin-right: 0.25em;\n",
              "  color: var(--sklearn-color-icon);\n",
              "}\n",
              "\n",
              "#sk-container-id-4 label.sk-toggleable__label-arrow:hover:before {\n",
              "  color: var(--sklearn-color-text);\n",
              "}\n",
              "\n",
              "/* Toggleable content - dropdown */\n",
              "\n",
              "#sk-container-id-4 div.sk-toggleable__content {\n",
              "  max-height: 0;\n",
              "  max-width: 0;\n",
              "  overflow: hidden;\n",
              "  text-align: left;\n",
              "  /* unfitted */\n",
              "  background-color: var(--sklearn-color-unfitted-level-0);\n",
              "}\n",
              "\n",
              "#sk-container-id-4 div.sk-toggleable__content.fitted {\n",
              "  /* fitted */\n",
              "  background-color: var(--sklearn-color-fitted-level-0);\n",
              "}\n",
              "\n",
              "#sk-container-id-4 div.sk-toggleable__content pre {\n",
              "  margin: 0.2em;\n",
              "  border-radius: 0.25em;\n",
              "  color: var(--sklearn-color-text);\n",
              "  /* unfitted */\n",
              "  background-color: var(--sklearn-color-unfitted-level-0);\n",
              "}\n",
              "\n",
              "#sk-container-id-4 div.sk-toggleable__content.fitted pre {\n",
              "  /* unfitted */\n",
              "  background-color: var(--sklearn-color-fitted-level-0);\n",
              "}\n",
              "\n",
              "#sk-container-id-4 input.sk-toggleable__control:checked~div.sk-toggleable__content {\n",
              "  /* Expand drop-down */\n",
              "  max-height: 200px;\n",
              "  max-width: 100%;\n",
              "  overflow: auto;\n",
              "}\n",
              "\n",
              "#sk-container-id-4 input.sk-toggleable__control:checked~label.sk-toggleable__label-arrow:before {\n",
              "  content: \"▾\";\n",
              "}\n",
              "\n",
              "/* Pipeline/ColumnTransformer-specific style */\n",
              "\n",
              "#sk-container-id-4 div.sk-label input.sk-toggleable__control:checked~label.sk-toggleable__label {\n",
              "  color: var(--sklearn-color-text);\n",
              "  background-color: var(--sklearn-color-unfitted-level-2);\n",
              "}\n",
              "\n",
              "#sk-container-id-4 div.sk-label.fitted input.sk-toggleable__control:checked~label.sk-toggleable__label {\n",
              "  background-color: var(--sklearn-color-fitted-level-2);\n",
              "}\n",
              "\n",
              "/* Estimator-specific style */\n",
              "\n",
              "/* Colorize estimator box */\n",
              "#sk-container-id-4 div.sk-estimator input.sk-toggleable__control:checked~label.sk-toggleable__label {\n",
              "  /* unfitted */\n",
              "  background-color: var(--sklearn-color-unfitted-level-2);\n",
              "}\n",
              "\n",
              "#sk-container-id-4 div.sk-estimator.fitted input.sk-toggleable__control:checked~label.sk-toggleable__label {\n",
              "  /* fitted */\n",
              "  background-color: var(--sklearn-color-fitted-level-2);\n",
              "}\n",
              "\n",
              "#sk-container-id-4 div.sk-label label.sk-toggleable__label,\n",
              "#sk-container-id-4 div.sk-label label {\n",
              "  /* The background is the default theme color */\n",
              "  color: var(--sklearn-color-text-on-default-background);\n",
              "}\n",
              "\n",
              "/* On hover, darken the color of the background */\n",
              "#sk-container-id-4 div.sk-label:hover label.sk-toggleable__label {\n",
              "  color: var(--sklearn-color-text);\n",
              "  background-color: var(--sklearn-color-unfitted-level-2);\n",
              "}\n",
              "\n",
              "/* Label box, darken color on hover, fitted */\n",
              "#sk-container-id-4 div.sk-label.fitted:hover label.sk-toggleable__label.fitted {\n",
              "  color: var(--sklearn-color-text);\n",
              "  background-color: var(--sklearn-color-fitted-level-2);\n",
              "}\n",
              "\n",
              "/* Estimator label */\n",
              "\n",
              "#sk-container-id-4 div.sk-label label {\n",
              "  font-family: monospace;\n",
              "  font-weight: bold;\n",
              "  display: inline-block;\n",
              "  line-height: 1.2em;\n",
              "}\n",
              "\n",
              "#sk-container-id-4 div.sk-label-container {\n",
              "  text-align: center;\n",
              "}\n",
              "\n",
              "/* Estimator-specific */\n",
              "#sk-container-id-4 div.sk-estimator {\n",
              "  font-family: monospace;\n",
              "  border: 1px dotted var(--sklearn-color-border-box);\n",
              "  border-radius: 0.25em;\n",
              "  box-sizing: border-box;\n",
              "  margin-bottom: 0.5em;\n",
              "  /* unfitted */\n",
              "  background-color: var(--sklearn-color-unfitted-level-0);\n",
              "}\n",
              "\n",
              "#sk-container-id-4 div.sk-estimator.fitted {\n",
              "  /* fitted */\n",
              "  background-color: var(--sklearn-color-fitted-level-0);\n",
              "}\n",
              "\n",
              "/* on hover */\n",
              "#sk-container-id-4 div.sk-estimator:hover {\n",
              "  /* unfitted */\n",
              "  background-color: var(--sklearn-color-unfitted-level-2);\n",
              "}\n",
              "\n",
              "#sk-container-id-4 div.sk-estimator.fitted:hover {\n",
              "  /* fitted */\n",
              "  background-color: var(--sklearn-color-fitted-level-2);\n",
              "}\n",
              "\n",
              "/* Specification for estimator info (e.g. \"i\" and \"?\") */\n",
              "\n",
              "/* Common style for \"i\" and \"?\" */\n",
              "\n",
              ".sk-estimator-doc-link,\n",
              "a:link.sk-estimator-doc-link,\n",
              "a:visited.sk-estimator-doc-link {\n",
              "  float: right;\n",
              "  font-size: smaller;\n",
              "  line-height: 1em;\n",
              "  font-family: monospace;\n",
              "  background-color: var(--sklearn-color-background);\n",
              "  border-radius: 1em;\n",
              "  height: 1em;\n",
              "  width: 1em;\n",
              "  text-decoration: none !important;\n",
              "  margin-left: 1ex;\n",
              "  /* unfitted */\n",
              "  border: var(--sklearn-color-unfitted-level-1) 1pt solid;\n",
              "  color: var(--sklearn-color-unfitted-level-1);\n",
              "}\n",
              "\n",
              ".sk-estimator-doc-link.fitted,\n",
              "a:link.sk-estimator-doc-link.fitted,\n",
              "a:visited.sk-estimator-doc-link.fitted {\n",
              "  /* fitted */\n",
              "  border: var(--sklearn-color-fitted-level-1) 1pt solid;\n",
              "  color: var(--sklearn-color-fitted-level-1);\n",
              "}\n",
              "\n",
              "/* On hover */\n",
              "div.sk-estimator:hover .sk-estimator-doc-link:hover,\n",
              ".sk-estimator-doc-link:hover,\n",
              "div.sk-label-container:hover .sk-estimator-doc-link:hover,\n",
              ".sk-estimator-doc-link:hover {\n",
              "  /* unfitted */\n",
              "  background-color: var(--sklearn-color-unfitted-level-3);\n",
              "  color: var(--sklearn-color-background);\n",
              "  text-decoration: none;\n",
              "}\n",
              "\n",
              "div.sk-estimator.fitted:hover .sk-estimator-doc-link.fitted:hover,\n",
              ".sk-estimator-doc-link.fitted:hover,\n",
              "div.sk-label-container:hover .sk-estimator-doc-link.fitted:hover,\n",
              ".sk-estimator-doc-link.fitted:hover {\n",
              "  /* fitted */\n",
              "  background-color: var(--sklearn-color-fitted-level-3);\n",
              "  color: var(--sklearn-color-background);\n",
              "  text-decoration: none;\n",
              "}\n",
              "\n",
              "/* Span, style for the box shown on hovering the info icon */\n",
              ".sk-estimator-doc-link span {\n",
              "  display: none;\n",
              "  z-index: 9999;\n",
              "  position: relative;\n",
              "  font-weight: normal;\n",
              "  right: .2ex;\n",
              "  padding: .5ex;\n",
              "  margin: .5ex;\n",
              "  width: min-content;\n",
              "  min-width: 20ex;\n",
              "  max-width: 50ex;\n",
              "  color: var(--sklearn-color-text);\n",
              "  box-shadow: 2pt 2pt 4pt #999;\n",
              "  /* unfitted */\n",
              "  background: var(--sklearn-color-unfitted-level-0);\n",
              "  border: .5pt solid var(--sklearn-color-unfitted-level-3);\n",
              "}\n",
              "\n",
              ".sk-estimator-doc-link.fitted span {\n",
              "  /* fitted */\n",
              "  background: var(--sklearn-color-fitted-level-0);\n",
              "  border: var(--sklearn-color-fitted-level-3);\n",
              "}\n",
              "\n",
              ".sk-estimator-doc-link:hover span {\n",
              "  display: block;\n",
              "}\n",
              "\n",
              "/* \"?\"-specific style due to the `<a>` HTML tag */\n",
              "\n",
              "#sk-container-id-4 a.estimator_doc_link {\n",
              "  float: right;\n",
              "  font-size: 1rem;\n",
              "  line-height: 1em;\n",
              "  font-family: monospace;\n",
              "  background-color: var(--sklearn-color-background);\n",
              "  border-radius: 1rem;\n",
              "  height: 1rem;\n",
              "  width: 1rem;\n",
              "  text-decoration: none;\n",
              "  /* unfitted */\n",
              "  color: var(--sklearn-color-unfitted-level-1);\n",
              "  border: var(--sklearn-color-unfitted-level-1) 1pt solid;\n",
              "}\n",
              "\n",
              "#sk-container-id-4 a.estimator_doc_link.fitted {\n",
              "  /* fitted */\n",
              "  border: var(--sklearn-color-fitted-level-1) 1pt solid;\n",
              "  color: var(--sklearn-color-fitted-level-1);\n",
              "}\n",
              "\n",
              "/* On hover */\n",
              "#sk-container-id-4 a.estimator_doc_link:hover {\n",
              "  /* unfitted */\n",
              "  background-color: var(--sklearn-color-unfitted-level-3);\n",
              "  color: var(--sklearn-color-background);\n",
              "  text-decoration: none;\n",
              "}\n",
              "\n",
              "#sk-container-id-4 a.estimator_doc_link.fitted:hover {\n",
              "  /* fitted */\n",
              "  background-color: var(--sklearn-color-fitted-level-3);\n",
              "}\n",
              "</style><div id=\"sk-container-id-4\" class=\"sk-top-container\"><div class=\"sk-text-repr-fallback\"><pre>MinMaxScaler()</pre><b>In a Jupyter environment, please rerun this cell to show the HTML representation or trust the notebook. <br />On GitHub, the HTML representation is unable to render, please try loading this page with nbviewer.org.</b></div><div class=\"sk-container\" hidden><div class=\"sk-item\"><div class=\"sk-estimator fitted sk-toggleable\"><input class=\"sk-toggleable__control sk-hidden--visually\" id=\"sk-estimator-id-4\" type=\"checkbox\" checked><label for=\"sk-estimator-id-4\" class=\"sk-toggleable__label fitted sk-toggleable__label-arrow fitted\">&nbsp;&nbsp;MinMaxScaler<a class=\"sk-estimator-doc-link fitted\" rel=\"noreferrer\" target=\"_blank\" href=\"https://scikit-learn.org/1.4/modules/generated/sklearn.preprocessing.MinMaxScaler.html\">?<span>Documentation for MinMaxScaler</span></a><span class=\"sk-estimator-doc-link fitted\">i<span>Fitted</span></span></label><div class=\"sk-toggleable__content fitted\"><pre>MinMaxScaler()</pre></div> </div></div></div></div>"
            ],
            "text/plain": [
              "MinMaxScaler()"
            ]
          },
          "execution_count": 132,
          "metadata": {},
          "output_type": "execute_result"
        }
      ],
      "source": [
        "scaler"
      ]
    },
    {
      "cell_type": "code",
      "execution_count": 133,
      "metadata": {
        "colab": {
          "base_uri": "https://localhost:8080/"
        },
        "id": "BtOC81u778Bl",
        "outputId": "59e5892d-3197-4474-8753-9984e7dcacb3"
      },
      "outputs": [
        {
          "name": "stdout",
          "output_type": "stream",
          "text": [
            "[[9.70345000e+02 2.58652588e+01 1.85763820e-02 ... 0.00000000e+00\n",
            "  0.00000000e+00 9.70345000e+02]\n",
            " [9.44055600e+02 2.56818176e+01 1.84937400e-02 ... 0.00000000e+00\n",
            "  0.00000000e+00 9.44055600e+02]\n",
            " [9.28533800e+02 2.56899048e+01 1.84226690e-02 ... 0.00000000e+00\n",
            "  0.00000000e+00 9.28533800e+02]\n",
            " ...\n",
            " [1.10349830e+03 2.67405640e+01 2.00779030e-02 ... 1.15117350e+03\n",
            "  1.16818890e+03 1.10349830e+03]\n",
            " [1.07561920e+03 2.62468506e+01 1.97051520e-02 ... 1.19332140e+03\n",
            "  1.15117350e+03 1.07561920e+03]\n",
            " [1.09055380e+03 2.57884155e+01 1.84663830e-02 ... 1.22465580e+03\n",
            "  1.19332140e+03 1.09055380e+03]]\n"
          ]
        }
      ],
      "source": [
        "X=np.array(df_for_training)\n",
        "print(X)"
      ]
    },
    {
      "cell_type": "code",
      "execution_count": 134,
      "metadata": {
        "id": "Kc0zikyt7-UA"
      },
      "outputs": [],
      "source": [
        "trainX = []\n",
        "trainY = []\n",
        "trainY = df_for_training['nat_demand'].to_numpy().reshape(-1,1)\n",
        "trainX = df_for_training.to_numpy().reshape(-1, 58,1)\n",
        "#trainY = df[['pressure']].to_numpy().reshape(-1, 80)\n",
        "#trainX = df.reshape(-1, 80, df.shape[-1])      df_for_training.shape[-1]"
      ]
    },
    {
      "cell_type": "code",
      "execution_count": 96,
      "metadata": {
        "colab": {
          "base_uri": "https://localhost:8080/"
        },
        "id": "tWtNzCW2Rfy1",
        "outputId": "c02d7063-c142-4cd2-ad63-035f8f785472"
      },
      "outputs": [
        {
          "data": {
            "text/plain": [
              "(1824, 58)"
            ]
          },
          "execution_count": 96,
          "metadata": {},
          "output_type": "execute_result"
        }
      ],
      "source": [
        "df_for_training.shape"
      ]
    },
    {
      "cell_type": "code",
      "execution_count": 135,
      "metadata": {
        "id": "2m66YGAf8KxH"
      },
      "outputs": [],
      "source": [
        "trainX = []\n",
        "trainY = []\n",
        "n_future = 1\n",
        "n_past = 12\n",
        "for i in range(n_past, len(df_for_training_scaled) - n_future +1):\n",
        "   trainX.append(df_for_training_scaled[i - n_past:i, 0:df_for_training.shape[1]])\n",
        "   trainY.append(df_for_training_scaled[i + n_future - 1:i + n_future, 0])"
      ]
    },
    {
      "cell_type": "code",
      "execution_count": 136,
      "metadata": {
        "colab": {
          "base_uri": "https://localhost:8080/"
        },
        "id": "-uQc27uC8NHE",
        "outputId": "fb6e36a8-68e8-4e46-c7a7-6adffa42fd9e"
      },
      "outputs": [
        {
          "name": "stdout",
          "output_type": "stream",
          "text": [
            "[[0.38234646]\n",
            " [0.45464221]\n",
            " [0.41743836]\n",
            " ...\n",
            " [0.69647226]\n",
            " [0.64138328]\n",
            " [0.67089398]]\n"
          ]
        }
      ],
      "source": [
        "trainX, trainY = np.array(trainX), np.array(trainY)\n",
        "# print(trainX.shape)\n",
        "print(trainY)"
      ]
    },
    {
      "cell_type": "code",
      "execution_count": 137,
      "metadata": {
        "colab": {
          "base_uri": "https://localhost:8080/"
        },
        "id": "rws-xgKb8Qmp",
        "outputId": "d0e3a7fe-cb06-4434-b02b-2a77943c0b5c"
      },
      "outputs": [
        {
          "data": {
            "text/plain": [
              "12"
            ]
          },
          "execution_count": 137,
          "metadata": {},
          "output_type": "execute_result"
        }
      ],
      "source": [
        "# np.set_printoptions(precision=3)\n",
        "# np.set_printoptions(suppress=True)\n",
        "# np.set_printoptions(threshold=2000)\n",
        "#p = PrintArray(precision=4, linewidth=150, suppress=True)\n",
        "trainX.shape[1]\n"
      ]
    },
    {
      "cell_type": "code",
      "execution_count": 138,
      "metadata": {
        "id": "lcmIbEmU8TQV"
      },
      "outputs": [
        {
          "name": "stderr",
          "output_type": "stream",
          "text": [
            "c:\\Users\\Aniket\\OneDrive\\Desktop\\STLF\\LSTM-Load-Forecasting\\LSTM\\Lib\\site-packages\\keras\\src\\layers\\rnn\\rnn.py:204: UserWarning: Do not pass an `input_shape`/`input_dim` argument to a layer. When using Sequential models, prefer using an `Input(shape)` object as the first layer in the model instead.\n",
            "  super().__init__(**kwargs)\n"
          ]
        }
      ],
      "source": [
        "model = Sequential()\n",
        "model.add(Bidirectional(LSTM(64, activation='relu', input_shape=(trainX.shape[1], trainX.shape[2]),return_sequences=True)))\n",
        "                             #return_sequences=True))\n",
        "model.add(Bidirectional(LSTM(32, activation='relu', return_sequences=True)))\n",
        "# model.add(LSTM(64, activation='relu', return_sequences=True))\n",
        "model.add(Bidirectional(LSTM(24, activation='relu', return_sequences=False)))\n",
        "# model.add(Dropout(0.2))\n",
        "model.add(Flatten())\n",
        "model.add(Dense(64, activation='relu'))#, return_sequences=False))\n",
        "model.add(Dense(32, activation='relu'))#, return_sequences=False))\n",
        "model.add(Dense(8, activation='relu'))#, return_sequences=False))\n",
        "model.add(Dense(trainY.shape[1]))\n",
        "\n",
        "\n",
        "model.compile(optimizer='adam', loss='mse',metrics=['mse'])\n",
        "\n",
        "\n",
        "\n",
        "\n",
        "#model 2\n",
        "\n",
        "# model.add(LSTM(64, input_shape=(trainX.shape[1], trainX.shape[2]), return_sequences=True))\n",
        "# # model.add(Dropout(0.2))\n",
        "# model.add(LSTM(64,return_sequences=True))\n",
        "# model.add(LSTM(64))\n",
        "# # model.add(LSTM(64))\n",
        "# # model.add(Dropout(0.2))\n",
        "# model.add(Dense(6))\n",
        "\n",
        "# # Add Dense layers for final output\n",
        "# model.add(Dense(32, activation='relu'))\n",
        "# # model.add(Dense(16, activation='relu'))\n",
        "# model.add(Dense(8, activation='relu'))\n",
        "#  # Add activation for dense layer\n",
        "# model.add(Dense(trainY.shape[1]))\n",
        "\n",
        "# # Compile the model\n",
        "# model.compile(loss='mse', optimizer='adam', metrics=['mse'])\n",
        "# model.summary()"
      ]
    },
    {
      "cell_type": "code",
      "execution_count": 139,
      "metadata": {
        "colab": {
          "base_uri": "https://localhost:8080/"
        },
        "id": "fVaBPyA18Vbw",
        "outputId": "95f20665-24b6-4db4-a902-da5550e6c638"
      },
      "outputs": [
        {
          "name": "stdout",
          "output_type": "stream",
          "text": [
            "Epoch 1/50\n",
            "\u001b[1m145/145\u001b[0m \u001b[32m━━━━━━━━━━━━━━━━━━━━\u001b[0m\u001b[37m\u001b[0m \u001b[1m9s\u001b[0m 13ms/step - loss: 0.0249 - mse: 0.0249 - val_loss: 0.0236 - val_mse: 0.0236\n",
            "Epoch 2/50\n",
            "\u001b[1m145/145\u001b[0m \u001b[32m━━━━━━━━━━━━━━━━━━━━\u001b[0m\u001b[37m\u001b[0m \u001b[1m1s\u001b[0m 9ms/step - loss: 0.0113 - mse: 0.0113 - val_loss: 0.0113 - val_mse: 0.0113\n",
            "Epoch 3/50\n",
            "\u001b[1m145/145\u001b[0m \u001b[32m━━━━━━━━━━━━━━━━━━━━\u001b[0m\u001b[37m\u001b[0m \u001b[1m1s\u001b[0m 9ms/step - loss: 0.0079 - mse: 0.0079 - val_loss: 0.0083 - val_mse: 0.0083\n",
            "Epoch 4/50\n",
            "\u001b[1m145/145\u001b[0m \u001b[32m━━━━━━━━━━━━━━━━━━━━\u001b[0m\u001b[37m\u001b[0m \u001b[1m1s\u001b[0m 9ms/step - loss: 0.0066 - mse: 0.0066 - val_loss: 0.0072 - val_mse: 0.0072\n",
            "Epoch 5/50\n",
            "\u001b[1m145/145\u001b[0m \u001b[32m━━━━━━━━━━━━━━━━━━━━\u001b[0m\u001b[37m\u001b[0m \u001b[1m1s\u001b[0m 9ms/step - loss: 0.0074 - mse: 0.0074 - val_loss: 0.0100 - val_mse: 0.0100\n",
            "Epoch 6/50\n",
            "\u001b[1m145/145\u001b[0m \u001b[32m━━━━━━━━━━━━━━━━━━━━\u001b[0m\u001b[37m\u001b[0m \u001b[1m1s\u001b[0m 9ms/step - loss: 0.0060 - mse: 0.0060 - val_loss: 0.0084 - val_mse: 0.0084\n",
            "Epoch 7/50\n",
            "\u001b[1m145/145\u001b[0m \u001b[32m━━━━━━━━━━━━━━━━━━━━\u001b[0m\u001b[37m\u001b[0m \u001b[1m1s\u001b[0m 9ms/step - loss: 0.0062 - mse: 0.0062 - val_loss: 0.0092 - val_mse: 0.0092\n",
            "Epoch 8/50\n",
            "\u001b[1m145/145\u001b[0m \u001b[32m━━━━━━━━━━━━━━━━━━━━\u001b[0m\u001b[37m\u001b[0m \u001b[1m1s\u001b[0m 9ms/step - loss: 0.0052 - mse: 0.0052 - val_loss: 0.0157 - val_mse: 0.0157\n",
            "Epoch 9/50\n",
            "\u001b[1m145/145\u001b[0m \u001b[32m━━━━━━━━━━━━━━━━━━━━\u001b[0m\u001b[37m\u001b[0m \u001b[1m1s\u001b[0m 9ms/step - loss: 0.0054 - mse: 0.0054 - val_loss: 0.0109 - val_mse: 0.0109\n",
            "Epoch 10/50\n",
            "\u001b[1m145/145\u001b[0m \u001b[32m━━━━━━━━━━━━━━━━━━━━\u001b[0m\u001b[37m\u001b[0m \u001b[1m1s\u001b[0m 9ms/step - loss: 0.0052 - mse: 0.0052 - val_loss: 0.0092 - val_mse: 0.0092\n",
            "Epoch 11/50\n",
            "\u001b[1m145/145\u001b[0m \u001b[32m━━━━━━━━━━━━━━━━━━━━\u001b[0m\u001b[37m\u001b[0m \u001b[1m1s\u001b[0m 9ms/step - loss: 0.0052 - mse: 0.0052 - val_loss: 0.0094 - val_mse: 0.0094\n",
            "Epoch 12/50\n",
            "\u001b[1m145/145\u001b[0m \u001b[32m━━━━━━━━━━━━━━━━━━━━\u001b[0m\u001b[37m\u001b[0m \u001b[1m1s\u001b[0m 9ms/step - loss: 0.0053 - mse: 0.0053 - val_loss: 0.0082 - val_mse: 0.0082\n",
            "Epoch 13/50\n",
            "\u001b[1m145/145\u001b[0m \u001b[32m━━━━━━━━━━━━━━━━━━━━\u001b[0m\u001b[37m\u001b[0m \u001b[1m1s\u001b[0m 9ms/step - loss: 0.0045 - mse: 0.0045 - val_loss: 0.0067 - val_mse: 0.0067\n",
            "Epoch 14/50\n",
            "\u001b[1m145/145\u001b[0m \u001b[32m━━━━━━━━━━━━━━━━━━━━\u001b[0m\u001b[37m\u001b[0m \u001b[1m1s\u001b[0m 9ms/step - loss: 0.0050 - mse: 0.0050 - val_loss: 0.0063 - val_mse: 0.0063\n",
            "Epoch 15/50\n",
            "\u001b[1m145/145\u001b[0m \u001b[32m━━━━━━━━━━━━━━━━━━━━\u001b[0m\u001b[37m\u001b[0m \u001b[1m1s\u001b[0m 9ms/step - loss: 0.0048 - mse: 0.0048 - val_loss: 0.0095 - val_mse: 0.0095\n",
            "Epoch 16/50\n",
            "\u001b[1m145/145\u001b[0m \u001b[32m━━━━━━━━━━━━━━━━━━━━\u001b[0m\u001b[37m\u001b[0m \u001b[1m1s\u001b[0m 9ms/step - loss: 0.0052 - mse: 0.0052 - val_loss: 0.0093 - val_mse: 0.0093\n",
            "Epoch 17/50\n",
            "\u001b[1m145/145\u001b[0m \u001b[32m━━━━━━━━━━━━━━━━━━━━\u001b[0m\u001b[37m\u001b[0m \u001b[1m1s\u001b[0m 9ms/step - loss: 0.0050 - mse: 0.0050 - val_loss: 0.0104 - val_mse: 0.0104\n",
            "Epoch 18/50\n",
            "\u001b[1m145/145\u001b[0m \u001b[32m━━━━━━━━━━━━━━━━━━━━\u001b[0m\u001b[37m\u001b[0m \u001b[1m1s\u001b[0m 9ms/step - loss: 0.0052 - mse: 0.0052 - val_loss: 0.0144 - val_mse: 0.0144\n",
            "Epoch 19/50\n",
            "\u001b[1m145/145\u001b[0m \u001b[32m━━━━━━━━━━━━━━━━━━━━\u001b[0m\u001b[37m\u001b[0m \u001b[1m1s\u001b[0m 9ms/step - loss: 0.0057 - mse: 0.0057 - val_loss: 0.0087 - val_mse: 0.0087\n",
            "Epoch 20/50\n",
            "\u001b[1m145/145\u001b[0m \u001b[32m━━━━━━━━━━━━━━━━━━━━\u001b[0m\u001b[37m\u001b[0m \u001b[1m1s\u001b[0m 10ms/step - loss: 0.0045 - mse: 0.0045 - val_loss: 0.0093 - val_mse: 0.0093\n",
            "Epoch 21/50\n",
            "\u001b[1m145/145\u001b[0m \u001b[32m━━━━━━━━━━━━━━━━━━━━\u001b[0m\u001b[37m\u001b[0m \u001b[1m1s\u001b[0m 9ms/step - loss: 0.0042 - mse: 0.0042 - val_loss: 0.0073 - val_mse: 0.0073\n",
            "Epoch 22/50\n",
            "\u001b[1m145/145\u001b[0m \u001b[32m━━━━━━━━━━━━━━━━━━━━\u001b[0m\u001b[37m\u001b[0m \u001b[1m1s\u001b[0m 9ms/step - loss: 0.0046 - mse: 0.0046 - val_loss: 0.0131 - val_mse: 0.0131\n",
            "Epoch 23/50\n",
            "\u001b[1m145/145\u001b[0m \u001b[32m━━━━━━━━━━━━━━━━━━━━\u001b[0m\u001b[37m\u001b[0m \u001b[1m1s\u001b[0m 9ms/step - loss: 0.0045 - mse: 0.0045 - val_loss: 0.0093 - val_mse: 0.0093\n",
            "Epoch 24/50\n",
            "\u001b[1m145/145\u001b[0m \u001b[32m━━━━━━━━━━━━━━━━━━━━\u001b[0m\u001b[37m\u001b[0m \u001b[1m1s\u001b[0m 9ms/step - loss: 0.0044 - mse: 0.0044 - val_loss: 0.0086 - val_mse: 0.0086\n",
            "Epoch 25/50\n",
            "\u001b[1m145/145\u001b[0m \u001b[32m━━━━━━━━━━━━━━━━━━━━\u001b[0m\u001b[37m\u001b[0m \u001b[1m1s\u001b[0m 10ms/step - loss: 0.0047 - mse: 0.0047 - val_loss: 0.0112 - val_mse: 0.0112\n",
            "Epoch 26/50\n",
            "\u001b[1m145/145\u001b[0m \u001b[32m━━━━━━━━━━━━━━━━━━━━\u001b[0m\u001b[37m\u001b[0m \u001b[1m2s\u001b[0m 11ms/step - loss: 0.0051 - mse: 0.0051 - val_loss: 0.0064 - val_mse: 0.0064\n",
            "Epoch 27/50\n",
            "\u001b[1m145/145\u001b[0m \u001b[32m━━━━━━━━━━━━━━━━━━━━\u001b[0m\u001b[37m\u001b[0m \u001b[1m1s\u001b[0m 9ms/step - loss: 0.0045 - mse: 0.0045 - val_loss: 0.0100 - val_mse: 0.0100\n",
            "Epoch 28/50\n",
            "\u001b[1m145/145\u001b[0m \u001b[32m━━━━━━━━━━━━━━━━━━━━\u001b[0m\u001b[37m\u001b[0m \u001b[1m1s\u001b[0m 9ms/step - loss: 0.0041 - mse: 0.0041 - val_loss: 0.0078 - val_mse: 0.0078\n",
            "Epoch 29/50\n",
            "\u001b[1m145/145\u001b[0m \u001b[32m━━━━━━━━━━━━━━━━━━━━\u001b[0m\u001b[37m\u001b[0m \u001b[1m1s\u001b[0m 9ms/step - loss: 0.0040 - mse: 0.0040 - val_loss: 0.0072 - val_mse: 0.0072\n",
            "Epoch 30/50\n",
            "\u001b[1m145/145\u001b[0m \u001b[32m━━━━━━━━━━━━━━━━━━━━\u001b[0m\u001b[37m\u001b[0m \u001b[1m1s\u001b[0m 9ms/step - loss: 0.0045 - mse: 0.0045 - val_loss: 0.0078 - val_mse: 0.0078\n",
            "Epoch 31/50\n",
            "\u001b[1m145/145\u001b[0m \u001b[32m━━━━━━━━━━━━━━━━━━━━\u001b[0m\u001b[37m\u001b[0m \u001b[1m1s\u001b[0m 9ms/step - loss: 0.0041 - mse: 0.0041 - val_loss: 0.0150 - val_mse: 0.0150\n",
            "Epoch 32/50\n",
            "\u001b[1m145/145\u001b[0m \u001b[32m━━━━━━━━━━━━━━━━━━━━\u001b[0m\u001b[37m\u001b[0m \u001b[1m1s\u001b[0m 9ms/step - loss: 0.0038 - mse: 0.0038 - val_loss: 0.0081 - val_mse: 0.0081\n",
            "Epoch 33/50\n",
            "\u001b[1m145/145\u001b[0m \u001b[32m━━━━━━━━━━━━━━━━━━━━\u001b[0m\u001b[37m\u001b[0m \u001b[1m1s\u001b[0m 9ms/step - loss: 0.0045 - mse: 0.0045 - val_loss: 0.0082 - val_mse: 0.0082\n",
            "Epoch 34/50\n",
            "\u001b[1m145/145\u001b[0m \u001b[32m━━━━━━━━━━━━━━━━━━━━\u001b[0m\u001b[37m\u001b[0m \u001b[1m1s\u001b[0m 9ms/step - loss: 0.0039 - mse: 0.0039 - val_loss: 0.0073 - val_mse: 0.0073\n",
            "Epoch 35/50\n",
            "\u001b[1m145/145\u001b[0m \u001b[32m━━━━━━━━━━━━━━━━━━━━\u001b[0m\u001b[37m\u001b[0m \u001b[1m1s\u001b[0m 9ms/step - loss: 0.0039 - mse: 0.0039 - val_loss: 0.0131 - val_mse: 0.0131\n",
            "Epoch 36/50\n",
            "\u001b[1m145/145\u001b[0m \u001b[32m━━━━━━━━━━━━━━━━━━━━\u001b[0m\u001b[37m\u001b[0m \u001b[1m1s\u001b[0m 9ms/step - loss: 0.0035 - mse: 0.0035 - val_loss: 0.0067 - val_mse: 0.0067\n",
            "Epoch 37/50\n",
            "\u001b[1m145/145\u001b[0m \u001b[32m━━━━━━━━━━━━━━━━━━━━\u001b[0m\u001b[37m\u001b[0m \u001b[1m1s\u001b[0m 9ms/step - loss: 0.0051 - mse: 0.0051 - val_loss: 0.0105 - val_mse: 0.0105\n",
            "Epoch 38/50\n",
            "\u001b[1m145/145\u001b[0m \u001b[32m━━━━━━━━━━━━━━━━━━━━\u001b[0m\u001b[37m\u001b[0m \u001b[1m1s\u001b[0m 9ms/step - loss: 0.0038 - mse: 0.0038 - val_loss: 0.0092 - val_mse: 0.0092\n",
            "Epoch 39/50\n",
            "\u001b[1m145/145\u001b[0m \u001b[32m━━━━━━━━━━━━━━━━━━━━\u001b[0m\u001b[37m\u001b[0m \u001b[1m1s\u001b[0m 9ms/step - loss: 0.0035 - mse: 0.0035 - val_loss: 0.0126 - val_mse: 0.0126\n",
            "Epoch 40/50\n",
            "\u001b[1m145/145\u001b[0m \u001b[32m━━━━━━━━━━━━━━━━━━━━\u001b[0m\u001b[37m\u001b[0m \u001b[1m1s\u001b[0m 9ms/step - loss: 0.0036 - mse: 0.0036 - val_loss: 0.0125 - val_mse: 0.0125\n",
            "Epoch 41/50\n",
            "\u001b[1m145/145\u001b[0m \u001b[32m━━━━━━━━━━━━━━━━━━━━\u001b[0m\u001b[37m\u001b[0m \u001b[1m1s\u001b[0m 9ms/step - loss: 0.0046 - mse: 0.0046 - val_loss: 0.0081 - val_mse: 0.0081\n",
            "Epoch 42/50\n",
            "\u001b[1m145/145\u001b[0m \u001b[32m━━━━━━━━━━━━━━━━━━━━\u001b[0m\u001b[37m\u001b[0m \u001b[1m1s\u001b[0m 9ms/step - loss: 0.0054 - mse: 0.0054 - val_loss: 0.0108 - val_mse: 0.0108\n",
            "Epoch 43/50\n",
            "\u001b[1m145/145\u001b[0m \u001b[32m━━━━━━━━━━━━━━━━━━━━\u001b[0m\u001b[37m\u001b[0m \u001b[1m1s\u001b[0m 9ms/step - loss: 0.0039 - mse: 0.0039 - val_loss: 0.0092 - val_mse: 0.0092\n",
            "Epoch 44/50\n",
            "\u001b[1m145/145\u001b[0m \u001b[32m━━━━━━━━━━━━━━━━━━━━\u001b[0m\u001b[37m\u001b[0m \u001b[1m1s\u001b[0m 9ms/step - loss: 0.0041 - mse: 0.0041 - val_loss: 0.0147 - val_mse: 0.0147\n",
            "Epoch 45/50\n",
            "\u001b[1m145/145\u001b[0m \u001b[32m━━━━━━━━━━━━━━━━━━━━\u001b[0m\u001b[37m\u001b[0m \u001b[1m1s\u001b[0m 9ms/step - loss: 0.0038 - mse: 0.0038 - val_loss: 0.0094 - val_mse: 0.0094\n",
            "Epoch 46/50\n",
            "\u001b[1m145/145\u001b[0m \u001b[32m━━━━━━━━━━━━━━━━━━━━\u001b[0m\u001b[37m\u001b[0m \u001b[1m1s\u001b[0m 9ms/step - loss: 0.0033 - mse: 0.0033 - val_loss: 0.0089 - val_mse: 0.0089\n",
            "Epoch 47/50\n",
            "\u001b[1m145/145\u001b[0m \u001b[32m━━━━━━━━━━━━━━━━━━━━\u001b[0m\u001b[37m\u001b[0m \u001b[1m1s\u001b[0m 9ms/step - loss: 0.0038 - mse: 0.0038 - val_loss: 0.0088 - val_mse: 0.0088\n",
            "Epoch 48/50\n",
            "\u001b[1m145/145\u001b[0m \u001b[32m━━━━━━━━━━━━━━━━━━━━\u001b[0m\u001b[37m\u001b[0m \u001b[1m1s\u001b[0m 9ms/step - loss: 0.0033 - mse: 0.0033 - val_loss: 0.0081 - val_mse: 0.0081\n",
            "Epoch 49/50\n",
            "\u001b[1m145/145\u001b[0m \u001b[32m━━━━━━━━━━━━━━━━━━━━\u001b[0m\u001b[37m\u001b[0m \u001b[1m1s\u001b[0m 9ms/step - loss: 0.0035 - mse: 0.0035 - val_loss: 0.0121 - val_mse: 0.0121\n",
            "Epoch 50/50\n",
            "\u001b[1m145/145\u001b[0m \u001b[32m━━━━━━━━━━━━━━━━━━━━\u001b[0m\u001b[37m\u001b[0m \u001b[1m1s\u001b[0m 9ms/step - loss: 0.0033 - mse: 0.0033 - val_loss: 0.0123 - val_mse: 0.0123\n"
          ]
        }
      ],
      "source": [
        "history = model.fit(trainX, trainY, epochs=50, batch_size=10,verbose=1,validation_split=0.2)\n",
        "#validation_split=0.2,\n"
      ]
    },
    {
      "cell_type": "code",
      "execution_count": 140,
      "metadata": {
        "colab": {
          "base_uri": "https://localhost:8080/",
          "height": 449
        },
        "id": "R5UKwYJE9y9I",
        "outputId": "b2f4527e-2ed8-4a44-c0b0-f894a9d0f1dc"
      },
      "outputs": [
        {
          "data": {
            "image/png": "[encoded data removed]",
            "text/plain": [
              "<Figure size 640x480 with 1 Axes>"
            ]
          },
          "metadata": {},
          "output_type": "display_data"
        }
      ],
      "source": [
        "plt.plot(history.history['loss'], label='Training Loss')\n",
        "plt.plot(history.history['val_loss'], label='Validation Loss')\n",
        "plt.xlabel('Epoch')\n",
        "plt.ylabel('Loss')\n",
        "plt.legend()\n",
        "plt.show()"
      ]
    },
    {
      "cell_type": "code",
      "execution_count": 103,
      "metadata": {
        "colab": {
          "base_uri": "https://localhost:8080/"
        },
        "id": "xbM6E_jQEzOM",
        "outputId": "44022387-50dd-444a-e1b9-1868e716c520"
      },
      "outputs": [
        {
          "data": {
            "text/html": [
              "<pre style=\"white-space:pre;overflow-x:auto;line-height:normal;font-family:Menlo,'DejaVu Sans Mono',consolas,'Courier New',monospace\"><span style=\"font-weight: bold\">Model: \"sequential_2\"</span>\n",
              "</pre>\n"
            ],
            "text/plain": [
              "\u001b[1mModel: \"sequential_2\"\u001b[0m\n"
            ]
          },
          "metadata": {},
          "output_type": "display_data"
        },
        {
          "data": {
            "text/html": [
              "<pre style=\"white-space:pre;overflow-x:auto;line-height:normal;font-family:Menlo,'DejaVu Sans Mono',consolas,'Courier New',monospace\">┏━━━━━━━━━━━━━━━━━━━━━━━━━━━━━━━━━┳━━━━━━━━━━━━━━━━━━━━━━━━┳━━━━━━━━━━━━━━━┓\n",
              "┃<span style=\"font-weight: bold\"> Layer (type)                    </span>┃<span style=\"font-weight: bold\"> Output Shape           </span>┃<span style=\"font-weight: bold\">       Param # </span>┃\n",
              "┡━━━━━━━━━━━━━━━━━━━━━━━━━━━━━━━━━╇━━━━━━━━━━━━━━━━━━━━━━━━╇━━━━━━━━━━━━━━━┩\n",
              "│ bidirectional_6 (<span style=\"color: #0087ff; text-decoration-color: #0087ff\">Bidirectional</span>) │ (<span style=\"color: #00af00; text-decoration-color: #00af00\">16</span>, <span style=\"color: #00af00; text-decoration-color: #00af00\">24</span>, <span style=\"color: #00af00; text-decoration-color: #00af00\">128</span>)          │        <span style=\"color: #00af00; text-decoration-color: #00af00\">62,976</span> │\n",
              "├─────────────────────────────────┼────────────────────────┼───────────────┤\n",
              "│ bidirectional_7 (<span style=\"color: #0087ff; text-decoration-color: #0087ff\">Bidirectional</span>) │ (<span style=\"color: #00af00; text-decoration-color: #00af00\">16</span>, <span style=\"color: #00af00; text-decoration-color: #00af00\">24</span>, <span style=\"color: #00af00; text-decoration-color: #00af00\">64</span>)           │        <span style=\"color: #00af00; text-decoration-color: #00af00\">41,216</span> │\n",
              "├─────────────────────────────────┼────────────────────────┼───────────────┤\n",
              "│ bidirectional_8 (<span style=\"color: #0087ff; text-decoration-color: #0087ff\">Bidirectional</span>) │ (<span style=\"color: #00af00; text-decoration-color: #00af00\">16</span>, <span style=\"color: #00af00; text-decoration-color: #00af00\">48</span>)               │        <span style=\"color: #00af00; text-decoration-color: #00af00\">17,088</span> │\n",
              "├─────────────────────────────────┼────────────────────────┼───────────────┤\n",
              "│ flatten_2 (<span style=\"color: #0087ff; text-decoration-color: #0087ff\">Flatten</span>)             │ (<span style=\"color: #00af00; text-decoration-color: #00af00\">16</span>, <span style=\"color: #00af00; text-decoration-color: #00af00\">48</span>)               │             <span style=\"color: #00af00; text-decoration-color: #00af00\">0</span> │\n",
              "├─────────────────────────────────┼────────────────────────┼───────────────┤\n",
              "│ dense_8 (<span style=\"color: #0087ff; text-decoration-color: #0087ff\">Dense</span>)                 │ (<span style=\"color: #00af00; text-decoration-color: #00af00\">16</span>, <span style=\"color: #00af00; text-decoration-color: #00af00\">64</span>)               │         <span style=\"color: #00af00; text-decoration-color: #00af00\">3,136</span> │\n",
              "├─────────────────────────────────┼────────────────────────┼───────────────┤\n",
              "│ dense_9 (<span style=\"color: #0087ff; text-decoration-color: #0087ff\">Dense</span>)                 │ (<span style=\"color: #00af00; text-decoration-color: #00af00\">16</span>, <span style=\"color: #00af00; text-decoration-color: #00af00\">32</span>)               │         <span style=\"color: #00af00; text-decoration-color: #00af00\">2,080</span> │\n",
              "├─────────────────────────────────┼────────────────────────┼───────────────┤\n",
              "│ dense_10 (<span style=\"color: #0087ff; text-decoration-color: #0087ff\">Dense</span>)                │ (<span style=\"color: #00af00; text-decoration-color: #00af00\">16</span>, <span style=\"color: #00af00; text-decoration-color: #00af00\">8</span>)                │           <span style=\"color: #00af00; text-decoration-color: #00af00\">264</span> │\n",
              "├─────────────────────────────────┼────────────────────────┼───────────────┤\n",
              "│ dense_11 (<span style=\"color: #0087ff; text-decoration-color: #0087ff\">Dense</span>)                │ (<span style=\"color: #00af00; text-decoration-color: #00af00\">16</span>, <span style=\"color: #00af00; text-decoration-color: #00af00\">1</span>)                │             <span style=\"color: #00af00; text-decoration-color: #00af00\">9</span> │\n",
              "└─────────────────────────────────┴────────────────────────┴───────────────┘\n",
              "</pre>\n"
            ],
            "text/plain": [
              "┏━━━━━━━━━━━━━━━━━━━━━━━━━━━━━━━━━┳━━━━━━━━━━━━━━━━━━━━━━━━┳━━━━━━━━━━━━━━━┓\n",
              "┃\u001b[1m \u001b[0m\u001b[1mLayer (type)                   \u001b[0m\u001b[1m \u001b[0m┃\u001b[1m \u001b[0m\u001b[1mOutput Shape          \u001b[0m\u001b[1m \u001b[0m┃\u001b[1m \u001b[0m\u001b[1m      Param #\u001b[0m\u001b[1m \u001b[0m┃\n",
              "┡━━━━━━━━━━━━━━━━━━━━━━━━━━━━━━━━━╇━━━━━━━━━━━━━━━━━━━━━━━━╇━━━━━━━━━━━━━━━┩\n",
              "│ bidirectional_6 (\u001b[38;5;33mBidirectional\u001b[0m) │ (\u001b[38;5;34m16\u001b[0m, \u001b[38;5;34m24\u001b[0m, \u001b[38;5;34m128\u001b[0m)          │        \u001b[38;5;34m62,976\u001b[0m │\n",
              "├─────────────────────────────────┼────────────────────────┼───────────────┤\n",
              "│ bidirectional_7 (\u001b[38;5;33mBidirectional\u001b[0m) │ (\u001b[38;5;34m16\u001b[0m, \u001b[38;5;34m24\u001b[0m, \u001b[38;5;34m64\u001b[0m)           │        \u001b[38;5;34m41,216\u001b[0m │\n",
              "├─────────────────────────────────┼────────────────────────┼───────────────┤\n",
              "│ bidirectional_8 (\u001b[38;5;33mBidirectional\u001b[0m) │ (\u001b[38;5;34m16\u001b[0m, \u001b[38;5;34m48\u001b[0m)               │        \u001b[38;5;34m17,088\u001b[0m │\n",
              "├─────────────────────────────────┼────────────────────────┼───────────────┤\n",
              "│ flatten_2 (\u001b[38;5;33mFlatten\u001b[0m)             │ (\u001b[38;5;34m16\u001b[0m, \u001b[38;5;34m48\u001b[0m)               │             \u001b[38;5;34m0\u001b[0m │\n",
              "├─────────────────────────────────┼────────────────────────┼───────────────┤\n",
              "│ dense_8 (\u001b[38;5;33mDense\u001b[0m)                 │ (\u001b[38;5;34m16\u001b[0m, \u001b[38;5;34m64\u001b[0m)               │         \u001b[38;5;34m3,136\u001b[0m │\n",
              "├─────────────────────────────────┼────────────────────────┼───────────────┤\n",
              "│ dense_9 (\u001b[38;5;33mDense\u001b[0m)                 │ (\u001b[38;5;34m16\u001b[0m, \u001b[38;5;34m32\u001b[0m)               │         \u001b[38;5;34m2,080\u001b[0m │\n",
              "├─────────────────────────────────┼────────────────────────┼───────────────┤\n",
              "│ dense_10 (\u001b[38;5;33mDense\u001b[0m)                │ (\u001b[38;5;34m16\u001b[0m, \u001b[38;5;34m8\u001b[0m)                │           \u001b[38;5;34m264\u001b[0m │\n",
              "├─────────────────────────────────┼────────────────────────┼───────────────┤\n",
              "│ dense_11 (\u001b[38;5;33mDense\u001b[0m)                │ (\u001b[38;5;34m16\u001b[0m, \u001b[38;5;34m1\u001b[0m)                │             \u001b[38;5;34m9\u001b[0m │\n",
              "└─────────────────────────────────┴────────────────────────┴───────────────┘\n"
            ]
          },
          "metadata": {},
          "output_type": "display_data"
        },
        {
          "data": {
            "text/html": [
              "<pre style=\"white-space:pre;overflow-x:auto;line-height:normal;font-family:Menlo,'DejaVu Sans Mono',consolas,'Courier New',monospace\"><span style=\"font-weight: bold\"> Total params: </span><span style=\"color: #00af00; text-decoration-color: #00af00\">380,309</span> (1.45 MB)\n",
              "</pre>\n"
            ],
            "text/plain": [
              "\u001b[1m Total params: \u001b[0m\u001b[38;5;34m380,309\u001b[0m (1.45 MB)\n"
            ]
          },
          "metadata": {},
          "output_type": "display_data"
        },
        {
          "data": {
            "text/html": [
              "<pre style=\"white-space:pre;overflow-x:auto;line-height:normal;font-family:Menlo,'DejaVu Sans Mono',consolas,'Courier New',monospace\"><span style=\"font-weight: bold\"> Trainable params: </span><span style=\"color: #00af00; text-decoration-color: #00af00\">126,769</span> (495.19 KB)\n",
              "</pre>\n"
            ],
            "text/plain": [
              "\u001b[1m Trainable params: \u001b[0m\u001b[38;5;34m126,769\u001b[0m (495.19 KB)\n"
            ]
          },
          "metadata": {},
          "output_type": "display_data"
        },
        {
          "data": {
            "text/html": [
              "<pre style=\"white-space:pre;overflow-x:auto;line-height:normal;font-family:Menlo,'DejaVu Sans Mono',consolas,'Courier New',monospace\"><span style=\"font-weight: bold\"> Non-trainable params: </span><span style=\"color: #00af00; text-decoration-color: #00af00\">0</span> (0.00 B)\n",
              "</pre>\n"
            ],
            "text/plain": [
              "\u001b[1m Non-trainable params: \u001b[0m\u001b[38;5;34m0\u001b[0m (0.00 B)\n"
            ]
          },
          "metadata": {},
          "output_type": "display_data"
        },
        {
          "data": {
            "text/html": [
              "<pre style=\"white-space:pre;overflow-x:auto;line-height:normal;font-family:Menlo,'DejaVu Sans Mono',consolas,'Courier New',monospace\"><span style=\"font-weight: bold\"> Optimizer params: </span><span style=\"color: #00af00; text-decoration-color: #00af00\">253,540</span> (990.39 KB)\n",
              "</pre>\n"
            ],
            "text/plain": [
              "\u001b[1m Optimizer params: \u001b[0m\u001b[38;5;34m253,540\u001b[0m (990.39 KB)\n"
            ]
          },
          "metadata": {},
          "output_type": "display_data"
        }
      ],
      "source": [
        "model.summary()"
      ]
    },
    {
      "cell_type": "code",
      "execution_count": null,
      "metadata": {
        "colab": {
          "base_uri": "https://localhost:8080/"
        },
        "id": "q5XOuCyxy4lV",
        "outputId": "ddb20430-e179-43bb-9afc-7b33fa923f25"
      },
      "outputs": [
        {
          "name": "stderr",
          "output_type": "stream",
          "text": [
            "<ipython-input-221-709264123324>:2: UserWarning: You are saving your model as an HDF5 file via `model.save()`. This file format is considered legacy. We recommend using instead the native Keras format, e.g. `model.save('my_model.keras')`.\n",
            "  save_model(model, \"medium_term_model.h5\")\n"
          ]
        }
      ],
      "source": [
        "from tensorflow.keras.models import save_model, load_model\n",
        "save_model(model, \"medium_term_model.h5\")"
      ]
    },
    {
      "cell_type": "code",
      "execution_count": null,
      "metadata": {
        "id": "-Z1k3dPA0vYO"
      },
      "outputs": [],
      "source": [
        "data= pd.read_csv('test_load_forecast.csv')\n",
        "predicted_y=[]\n",
        "dates=[]\n",
        "previousData=[]\n",
        "time=[]\n",
        "for i in range(24):\n",
        "  df_test1=data.iloc[i:i+48]\n",
        "  df_test1['datetime']=pd.to_datetime(df_test1['datetime'],format='%d-%m-%Y')\n",
        "\n",
        "  df_test1['week_day']=df_test1['datetime'].dt.dayofweek\n",
        "  df_test1['date']=df_test1['datetime'].dt.day\n",
        "  df_test1['month']=df_test1['datetime'].dt.month\n",
        "  df_test1['hour']=df_test1['datetime'].dt.hour\n",
        "  # df.head()\n",
        "  date=data.iloc[i+48,0]\n",
        "  date=pd.to_datetime(date,format='%d-%m-%Y')\n",
        "  # time.append(date.dt.time)\n",
        "\n",
        "\n",
        "  previousData.append(data.iloc[i+48,1])\n",
        "  df_test2 = add_features(df_test1)\n",
        "\n",
        "  # df_test1 = add_features(df_test1)\n",
        "  # print(df_test1.head())\n",
        "  col=['datetime']\n",
        "  new_df_test2= df_test2.drop(columns=col)\n",
        "  df_for_testing1 = new_df_test2.astype(float)\n",
        "  # print(df_for_testing1)\n",
        "  # df_for_pred1=df_test1.drop(columns=['datetime'])\n",
        "  # df_test1=df_for_pred1.astype(float)\n",
        "  df_pred_scaled1=scaler.transform(df_for_testing1)\n",
        "\n",
        "  # print(df_pred_scaled1)\n",
        "  # print(df_test.sha)\n",
        "  X_pred1 = []\n",
        "  # for i in range(n_past, len(df_pred_scaled1) - n_future +1):\n",
        "\n",
        "  X_pred1.append(df_pred_scaled1[0:48, 0:df_for_testing1.shape[1]])\n",
        "\n",
        "\n",
        "  X_pred1= np.array(X_pred1)\n",
        "  # print(X_pred1)\n",
        "\n",
        "  print('X for prediction shape == {}.'.format(X_pred1.shape))\n",
        "  prediction1 = model.predict(X_pred1)\n",
        "  print(prediction1.shape)\n",
        "  prediction1_copies = np.repeat(prediction1, df_for_testing1.shape[1], axis=-1)\n",
        "  # print(prediction1_copies)\n",
        "  y_pred_future1 = scaler.inverse_transform(prediction1_copies)[:,0]\n",
        "  # print(y_pred_future1)\n",
        "  predicted_y.append(y_pred_future1)\n",
        "  dates.append(date)\n",
        "  data.loc[i+48,'nat_demand']=y_pred_future1\n",
        "\n",
        "\n",
        "\n",
        "# print(predicted_y)\n"
      ]
    },
    {
      "cell_type": "code",
      "execution_count": 36,
      "metadata": {
        "colab": {
          "base_uri": "https://localhost:8080/"
        },
        "id": "j7eEDhg4ceRt",
        "outputId": "d44f67f7-5bc8-4edd-a5d3-42a70ce9e5e3"
      },
      "outputs": [
        {
          "data": {
            "text/plain": [
              "[array([945.4588], dtype=float32),\n",
              " array([954.9072], dtype=float32),\n",
              " array([952.0858], dtype=float32),\n",
              " array([935.97815], dtype=float32),\n",
              " array([913.18756], dtype=float32),\n",
              " array([896.6631], dtype=float32),\n",
              " array([900.73566], dtype=float32),\n",
              " array([898.6061], dtype=float32),\n",
              " array([907.2536], dtype=float32),\n",
              " array([903.5739], dtype=float32),\n",
              " array([904.58905], dtype=float32),\n",
              " array([906.99036], dtype=float32),\n",
              " array([893.1886], dtype=float32),\n",
              " array([902.95636], dtype=float32),\n",
              " array([903.4843], dtype=float32),\n",
              " array([903.28174], dtype=float32),\n",
              " array([895.2482], dtype=float32),\n",
              " array([872.72394], dtype=float32),\n",
              " array([866.1923], dtype=float32),\n",
              " array([868.30316], dtype=float32),\n",
              " array([873.09143], dtype=float32),\n",
              " array([866.05365], dtype=float32),\n",
              " array([868.55414], dtype=float32),\n",
              " array([871.1456], dtype=float32)]"
            ]
          },
          "execution_count": 36,
          "metadata": {},
          "output_type": "execute_result"
        }
      ],
      "source": [
        "predicted_y"
      ]
    },
    {
      "cell_type": "code",
      "execution_count": null,
      "metadata": {
        "colab": {
          "base_uri": "https://localhost:8080/"
        },
        "id": "FaETseY82YDq",
        "outputId": "78a802ed-6958-4389-d748-62a9fe9d7f51"
      },
      "outputs": [
        {
          "data": {
            "text/plain": [
              "[1086.3027,\n",
              " 1146.1169,\n",
              " 1054.9346,\n",
              " 982.4278,\n",
              " 1001.2198,\n",
              " 990.4145,\n",
              " 1021.1594,\n",
              " 983.2242,\n",
              " 977.7237,\n",
              " 1024.516959,\n",
              " 1115.0801,\n",
              " 1095.1115,\n",
              " 1027.402653,\n",
              " 1047.9314,\n",
              " 1120.6625,\n",
              " 1011.7703,\n",
              " 985.1806,\n",
              " 975.8991,\n",
              " 1017.8908,\n",
              " 933.326695,\n",
              " 997.4791,\n",
              " 1042.1703,\n",
              " 1063.5381,\n",
              " 1104.0659]"
            ]
          },
          "execution_count": 224,
          "metadata": {},
          "output_type": "execute_result"
        }
      ],
      "source": [
        "previousData"
      ]
    },
    {
      "cell_type": "code",
      "execution_count": 142,
      "metadata": {
        "colab": {
          "base_uri": "https://localhost:8080/",
          "height": 382
        },
        "id": "3ayy0SPX19ua",
        "outputId": "03585c73-9373-40f3-932b-aece17e24895"
      },
      "outputs": [
        {
          "data": {
            "image/png": "[encoded data removed]",
            "text/plain": [
              "<Figure size 2400x600 with 1 Axes>"
            ]
          },
          "metadata": {},
          "output_type": "display_data"
        }
      ],
      "source": [
        "plt.figure(figsize=(24, 6))\n",
        "plt.plot(dates, predicted_y, label='predicted', color='blue')\n",
        "plt.plot(dates,previousData , label='actual', color='orange')\n",
        "plt.title('Actual Vs Predicted')\n",
        "plt.xlabel('Date')\n",
        "plt.ylabel('Load(MWh)')\n",
        "plt.legend()\n",
        "plt.show()"
      ]
    },
    {
      "cell_type": "code",
      "execution_count": 111,
      "metadata": {
        "colab": {
          "base_uri": "https://localhost:8080/"
        },
        "id": "BurpJJ6r8rlY",
        "outputId": "74e729c2-8aa5-4028-a76f-551d402dd04c"
      },
      "outputs": [
        {
          "name": "stdout",
          "output_type": "stream",
          "text": [
            "Train Score: 187.14 RMSE\n",
            "Test Score: 187.14 RMSE\n",
            "trainMAPE: 180.65 MAPE\n",
            "testMAPE: 180.65 MAPE\n",
            "TrainMSE: 35021.10 MSE\n",
            "TestMSE: 35021.10 MSE\n",
            "trainKPI [180.64616078971355, 187.1392564198203, 35021.10129336325]\n",
            "testKPI [180.64616078971355, 187.1392564198203, 35021.10129336325]\n"
          ]
        }
      ],
      "source": [
        "import math\n",
        "from sklearn.metrics import mean_squared_error\n",
        "from sklearn.metrics import mean_absolute_error\n",
        "from keras.optimizers import SGD\n",
        "trainScore = math.sqrt(mean_squared_error(predicted_y, previousData))\n",
        "print( 'Train Score: %.2f RMSE' % (trainScore))\n",
        "testScore = math.sqrt(mean_squared_error(predicted_y, previousData))\n",
        "print( 'Test Score: %.2f RMSE' % (testScore))\n",
        "\n",
        "#calculate mean absolute percent error\n",
        "trainMAPE = mean_absolute_error(predicted_y, previousData)\n",
        "print('trainMAPE: %.2f MAPE' % trainMAPE)\n",
        "testMAPE = mean_absolute_error(predicted_y, previousData)\n",
        "print('testMAPE: %.2f MAPE' % testMAPE)\n",
        "\n",
        "#calculate mean square error\n",
        "trainmse = mean_squared_error(predicted_y, previousData)\n",
        "print('TrainMSE: %.2f MSE' % trainmse)\n",
        "testmse = mean_squared_error(predicted_y, previousData)\n",
        "print('TestMSE: %.2f MSE' % testmse)\n",
        "trainKPI = [];\n",
        "trainKPI.extend([trainMAPE,trainScore,trainmse])\n",
        "testKPI = [];\n",
        "testKPI.extend([testMAPE,testScore,testmse])\n",
        "print('trainKPI',trainKPI)\n",
        "print('testKPI',testKPI)\n",
        "\n",
        "# print('train_size',train_size)\n",
        "# print('test_size',test_size)"
      ]
    },
    {
      "cell_type": "code",
      "execution_count": null,
      "metadata": {
        "colab": {
          "base_uri": "https://localhost:8080/"
        },
        "id": "aQ6RkYBGjBwg",
        "outputId": "8d18a781-6a65-4993-fa7f-a561b1e815ac"
      },
      "outputs": [
        {
          "name": "stderr",
          "output_type": "stream",
          "text": [
            "/usr/local/lib/python3.10/dist-packages/keras/src/engine/training.py:3103: UserWarning: You are saving your model as an HDF5 file via `model.save()`. This file format is considered legacy. We recommend using instead the native Keras format, e.g. `model.save('my_model.keras')`.\n",
            "  saving_api.save_model(\n"
          ]
        }
      ],
      "source": [
        "model.save('model.h5')"
      ]
    },
    {
      "cell_type": "code",
      "execution_count": null,
      "metadata": {
        "colab": {
          "base_uri": "https://localhost:8080/"
        },
        "id": "YT0-Xvr0jsDn",
        "outputId": "f4d8197c-148e-4a17-d33f-75e89aa5d74f"
      },
      "outputs": [
        {
          "name": "stdout",
          "output_type": "stream",
          "text": [
            "Drive already mounted at /content/drive; to attempt to forcibly remount, call drive.mount(\"/content/drive\", force_remount=True).\n",
            "mkdir: cannot create directory ‘/content/drive/MyDrive/my_folder_in_drive’: File exists\n",
            "cp: cannot stat 'short_term_model//*': No such file or directory\n"
          ]
        }
      ],
      "source": [
        "# model.save_weights('shorterm_model_weights.h5')\n",
        "from google.colab import drive\n",
        "\n",
        "# Mount Google Drive\n",
        "drive.mount('/content/drive')\n",
        "\n",
        "# Create a folder to save in Google Drive\n",
        "!mkdir /content/drive/MyDrive/my_folder_in_drive\n",
        "\n",
        "# Copy content to the new Google Drive folder\n",
        "!cp -r short_term_model//* /content/drive/MyDrive/my_folder_in_drive/\n"
      ]
    },
    {
      "cell_type": "code",
      "execution_count": null,
      "metadata": {
        "colab": {
          "base_uri": "https://localhost:8080/"
        },
        "id": "-rnmdOuovOfC",
        "outputId": "9df85644-2bac-4b64-95d2-05dea70acb65"
      },
      "outputs": [
        {
          "name": "stdout",
          "output_type": "stream",
          "text": [
            "1/1 [==============================] - 0s 35ms/step\n",
            "[959.4149]\n"
          ]
        }
      ],
      "source": [
        "prediction1 = model.predict(X_pred1)\n",
        "prediction1_copies = np.repeat(prediction1, df_for_testing1.shape[1], axis=-1)\n",
        "y_pred_future1 = scaler.inverse_transform(prediction1_copies)[:,0]\n",
        "print(y_pred_future1)"
      ]
    }
  ],
  "metadata": {
    "colab": {
      "provenance": []
    },
    "kernelspec": {
      "display_name": "Python 3",
      "name": "python3"
    },
    "language_info": {
      "codemirror_mode": {
        "name": "ipython",
        "version": 3
      },
      "file_extension": ".py",
      "mimetype": "text/x-python",
      "name": "python",
      "nbconvert_exporter": "python",
      "pygments_lexer": "ipython3",
      "version": "3.12.3"
    }
  },
  "nbformat": 4,
  "nbformat_minor": 0
}
